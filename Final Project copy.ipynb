{
 "cells": [
  {
   "cell_type": "code",
   "execution_count": 4,
   "metadata": {},
   "outputs": [],
   "source": [
    "import numpy as np\n",
    "import pandas as pd\n",
    "import matplotlib.pyplot as plt"
   ]
  },
  {
   "cell_type": "markdown",
   "metadata": {},
   "source": [
    "# Data Preprocessing"
   ]
  },
  {
   "cell_type": "code",
   "execution_count": 5,
   "metadata": {},
   "outputs": [
    {
     "name": "stdout",
     "output_type": "stream",
     "text": [
      "(70000, 13)\n"
     ]
    },
    {
     "data": {
      "text/html": [
       "<div>\n",
       "<style scoped>\n",
       "    .dataframe tbody tr th:only-of-type {\n",
       "        vertical-align: middle;\n",
       "    }\n",
       "\n",
       "    .dataframe tbody tr th {\n",
       "        vertical-align: top;\n",
       "    }\n",
       "\n",
       "    .dataframe thead th {\n",
       "        text-align: right;\n",
       "    }\n",
       "</style>\n",
       "<table border=\"1\" class=\"dataframe\">\n",
       "  <thead>\n",
       "    <tr style=\"text-align: right;\">\n",
       "      <th></th>\n",
       "      <th>id</th>\n",
       "      <th>age</th>\n",
       "      <th>gender</th>\n",
       "      <th>height</th>\n",
       "      <th>weight</th>\n",
       "      <th>ap_hi</th>\n",
       "      <th>ap_lo</th>\n",
       "      <th>cholesterol</th>\n",
       "      <th>gluc</th>\n",
       "      <th>smoke</th>\n",
       "      <th>alco</th>\n",
       "      <th>active</th>\n",
       "      <th>cardio</th>\n",
       "    </tr>\n",
       "  </thead>\n",
       "  <tbody>\n",
       "    <tr>\n",
       "      <th>0</th>\n",
       "      <td>0</td>\n",
       "      <td>18393</td>\n",
       "      <td>2</td>\n",
       "      <td>168</td>\n",
       "      <td>62.0</td>\n",
       "      <td>110</td>\n",
       "      <td>80</td>\n",
       "      <td>1</td>\n",
       "      <td>1</td>\n",
       "      <td>0</td>\n",
       "      <td>0</td>\n",
       "      <td>1</td>\n",
       "      <td>0</td>\n",
       "    </tr>\n",
       "    <tr>\n",
       "      <th>1</th>\n",
       "      <td>1</td>\n",
       "      <td>20228</td>\n",
       "      <td>1</td>\n",
       "      <td>156</td>\n",
       "      <td>85.0</td>\n",
       "      <td>140</td>\n",
       "      <td>90</td>\n",
       "      <td>3</td>\n",
       "      <td>1</td>\n",
       "      <td>0</td>\n",
       "      <td>0</td>\n",
       "      <td>1</td>\n",
       "      <td>1</td>\n",
       "    </tr>\n",
       "    <tr>\n",
       "      <th>2</th>\n",
       "      <td>2</td>\n",
       "      <td>18857</td>\n",
       "      <td>1</td>\n",
       "      <td>165</td>\n",
       "      <td>64.0</td>\n",
       "      <td>130</td>\n",
       "      <td>70</td>\n",
       "      <td>3</td>\n",
       "      <td>1</td>\n",
       "      <td>0</td>\n",
       "      <td>0</td>\n",
       "      <td>0</td>\n",
       "      <td>1</td>\n",
       "    </tr>\n",
       "    <tr>\n",
       "      <th>3</th>\n",
       "      <td>3</td>\n",
       "      <td>17623</td>\n",
       "      <td>2</td>\n",
       "      <td>169</td>\n",
       "      <td>82.0</td>\n",
       "      <td>150</td>\n",
       "      <td>100</td>\n",
       "      <td>1</td>\n",
       "      <td>1</td>\n",
       "      <td>0</td>\n",
       "      <td>0</td>\n",
       "      <td>1</td>\n",
       "      <td>1</td>\n",
       "    </tr>\n",
       "    <tr>\n",
       "      <th>4</th>\n",
       "      <td>4</td>\n",
       "      <td>17474</td>\n",
       "      <td>1</td>\n",
       "      <td>156</td>\n",
       "      <td>56.0</td>\n",
       "      <td>100</td>\n",
       "      <td>60</td>\n",
       "      <td>1</td>\n",
       "      <td>1</td>\n",
       "      <td>0</td>\n",
       "      <td>0</td>\n",
       "      <td>0</td>\n",
       "      <td>0</td>\n",
       "    </tr>\n",
       "  </tbody>\n",
       "</table>\n",
       "</div>"
      ],
      "text/plain": [
       "   id    age  gender  height  weight  ap_hi  ap_lo  cholesterol  gluc  smoke  \\\n",
       "0   0  18393       2     168    62.0    110     80            1     1      0   \n",
       "1   1  20228       1     156    85.0    140     90            3     1      0   \n",
       "2   2  18857       1     165    64.0    130     70            3     1      0   \n",
       "3   3  17623       2     169    82.0    150    100            1     1      0   \n",
       "4   4  17474       1     156    56.0    100     60            1     1      0   \n",
       "\n",
       "   alco  active  cardio  \n",
       "0     0       1       0  \n",
       "1     0       1       1  \n",
       "2     0       0       1  \n",
       "3     0       1       1  \n",
       "4     0       0       0  "
      ]
     },
     "execution_count": 5,
     "metadata": {},
     "output_type": "execute_result"
    }
   ],
   "source": [
    "df = pd.read_csv(\"mlbootcamp5_train.csv\")\n",
    "print (df.shape)\n",
    "df.head()"
   ]
  },
  {
   "cell_type": "code",
   "execution_count": 6,
   "metadata": {},
   "outputs": [
    {
     "data": {
      "text/html": [
       "<div>\n",
       "<style scoped>\n",
       "    .dataframe tbody tr th:only-of-type {\n",
       "        vertical-align: middle;\n",
       "    }\n",
       "\n",
       "    .dataframe tbody tr th {\n",
       "        vertical-align: top;\n",
       "    }\n",
       "\n",
       "    .dataframe thead th {\n",
       "        text-align: right;\n",
       "    }\n",
       "</style>\n",
       "<table border=\"1\" class=\"dataframe\">\n",
       "  <thead>\n",
       "    <tr style=\"text-align: right;\">\n",
       "      <th></th>\n",
       "      <th>id</th>\n",
       "      <th>age</th>\n",
       "      <th>gender</th>\n",
       "      <th>height</th>\n",
       "      <th>weight</th>\n",
       "      <th>ap_hi</th>\n",
       "      <th>ap_lo</th>\n",
       "      <th>cholesterol</th>\n",
       "      <th>gluc</th>\n",
       "      <th>smoke</th>\n",
       "      <th>alco</th>\n",
       "      <th>active</th>\n",
       "      <th>cardio</th>\n",
       "    </tr>\n",
       "  </thead>\n",
       "  <tbody>\n",
       "    <tr>\n",
       "      <th>0</th>\n",
       "      <td>0</td>\n",
       "      <td>50</td>\n",
       "      <td>2</td>\n",
       "      <td>168</td>\n",
       "      <td>62.0</td>\n",
       "      <td>110</td>\n",
       "      <td>80</td>\n",
       "      <td>1</td>\n",
       "      <td>1</td>\n",
       "      <td>0</td>\n",
       "      <td>0</td>\n",
       "      <td>1</td>\n",
       "      <td>0</td>\n",
       "    </tr>\n",
       "    <tr>\n",
       "      <th>1</th>\n",
       "      <td>1</td>\n",
       "      <td>55</td>\n",
       "      <td>1</td>\n",
       "      <td>156</td>\n",
       "      <td>85.0</td>\n",
       "      <td>140</td>\n",
       "      <td>90</td>\n",
       "      <td>3</td>\n",
       "      <td>1</td>\n",
       "      <td>0</td>\n",
       "      <td>0</td>\n",
       "      <td>1</td>\n",
       "      <td>1</td>\n",
       "    </tr>\n",
       "    <tr>\n",
       "      <th>2</th>\n",
       "      <td>2</td>\n",
       "      <td>52</td>\n",
       "      <td>1</td>\n",
       "      <td>165</td>\n",
       "      <td>64.0</td>\n",
       "      <td>130</td>\n",
       "      <td>70</td>\n",
       "      <td>3</td>\n",
       "      <td>1</td>\n",
       "      <td>0</td>\n",
       "      <td>0</td>\n",
       "      <td>0</td>\n",
       "      <td>1</td>\n",
       "    </tr>\n",
       "    <tr>\n",
       "      <th>3</th>\n",
       "      <td>3</td>\n",
       "      <td>48</td>\n",
       "      <td>2</td>\n",
       "      <td>169</td>\n",
       "      <td>82.0</td>\n",
       "      <td>150</td>\n",
       "      <td>100</td>\n",
       "      <td>1</td>\n",
       "      <td>1</td>\n",
       "      <td>0</td>\n",
       "      <td>0</td>\n",
       "      <td>1</td>\n",
       "      <td>1</td>\n",
       "    </tr>\n",
       "    <tr>\n",
       "      <th>4</th>\n",
       "      <td>4</td>\n",
       "      <td>48</td>\n",
       "      <td>1</td>\n",
       "      <td>156</td>\n",
       "      <td>56.0</td>\n",
       "      <td>100</td>\n",
       "      <td>60</td>\n",
       "      <td>1</td>\n",
       "      <td>1</td>\n",
       "      <td>0</td>\n",
       "      <td>0</td>\n",
       "      <td>0</td>\n",
       "      <td>0</td>\n",
       "    </tr>\n",
       "  </tbody>\n",
       "</table>\n",
       "</div>"
      ],
      "text/plain": [
       "   id  age  gender  height  weight  ap_hi  ap_lo  cholesterol  gluc  smoke  \\\n",
       "0   0   50       2     168    62.0    110     80            1     1      0   \n",
       "1   1   55       1     156    85.0    140     90            3     1      0   \n",
       "2   2   52       1     165    64.0    130     70            3     1      0   \n",
       "3   3   48       2     169    82.0    150    100            1     1      0   \n",
       "4   4   48       1     156    56.0    100     60            1     1      0   \n",
       "\n",
       "   alco  active  cardio  \n",
       "0     0       1       0  \n",
       "1     0       1       1  \n",
       "2     0       0       1  \n",
       "3     0       1       1  \n",
       "4     0       0       0  "
      ]
     },
     "execution_count": 6,
     "metadata": {},
     "output_type": "execute_result"
    }
   ],
   "source": [
    "# convert days to years for age\n",
    "df.age = round(df.age / 365)\n",
    "df.age = df.age.astype(int)\n",
    "df.head()"
   ]
  },
  {
   "cell_type": "code",
   "execution_count": 7,
   "metadata": {},
   "outputs": [
    {
     "name": "stdout",
     "output_type": "stream",
     "text": [
      "id             0\n",
      "age            0\n",
      "gender         0\n",
      "height         0\n",
      "weight         0\n",
      "ap_hi          0\n",
      "ap_lo          0\n",
      "cholesterol    0\n",
      "gluc           0\n",
      "smoke          0\n",
      "alco           0\n",
      "active         0\n",
      "cardio         0\n",
      "dtype: int64\n",
      "ap_hi below 50: 188 , ap_hi above 210: 98\n",
      "ap_lo below 20: 53 , ap_lo above 120: 1263\n"
     ]
    }
   ],
   "source": [
    "# check missing data\n",
    "print (df.isnull().sum(axis = 0))\n",
    "\n",
    "# check unreliable data\n",
    "print (\"ap_hi below 50:\", len(df[df['ap_hi'] <= 50]) , \", ap_hi above 210:\", len(df[df['ap_hi'] >= 210]))\n",
    "print (\"ap_lo below 20:\", len(df[df['ap_lo'] <= 20]) , \", ap_lo above 120:\", len(df[df['ap_lo'] >= 120]))\n",
    "\n",
    "# Replace unreliable data\n",
    "# For Systolic blood pressure (ap_hi), set everything below 50 and above 200 to the mean\n",
    "\n",
    "df = df[df.ap_hi > 50]\n",
    "df = df[df.ap_hi < 210]\n",
    "df = df[df.ap_lo > 20]\n",
    "df = df[df.ap_lo < 120] \n"
   ]
  },
  {
   "cell_type": "code",
   "execution_count": 8,
   "metadata": {},
   "outputs": [
    {
     "name": "stdout",
     "output_type": "stream",
     "text": [
      "          id  age  gender  height  weight  ap_hi  ap_lo  cholesterol  gluc  \\\n",
      "0          0   50       2     168    62.0    110     80            1     1   \n",
      "1          1   55       1     156    85.0    140     90            3     1   \n",
      "2          2   52       1     165    64.0    130     70            3     1   \n",
      "3          3   48       2     169    82.0    150    100            1     1   \n",
      "4          4   48       1     156    56.0    100     60            1     1   \n",
      "5          8   60       1     151    67.0    120     80            2     2   \n",
      "6          9   61       1     157    93.0    130     80            3     1   \n",
      "7         12   62       2     178    95.0    130     90            3     3   \n",
      "8         13   48       1     158    71.0    110     70            1     1   \n",
      "9         14   54       1     164    68.0    110     60            1     1   \n",
      "10        15   62       1     169    80.0    120     80            1     1   \n",
      "11        16   52       2     173    60.0    120     80            1     1   \n",
      "12        18   41       2     165    60.0    120     80            1     1   \n",
      "13        21   54       1     158    78.0    110     70            1     1   \n",
      "14        23   40       2     181    95.0    130     90            1     1   \n",
      "15        24   46       2     172   112.0    120     80            1     1   \n",
      "16        25   58       1     170    75.0    130     70            1     1   \n",
      "17        27   46       1     158    52.0    110     70            1     3   \n",
      "18        28   48       1     154    68.0    100     70            1     1   \n",
      "19        29   60       2     162    56.0    120     70            1     1   \n",
      "20        30   54       2     163    83.0    120     80            1     1   \n",
      "21        31   59       1     157    69.0    130     80            1     1   \n",
      "22        32   63       1     158    90.0    145     85            2     2   \n",
      "23        33   64       2     156    45.0    110     60            1     1   \n",
      "24        35   46       1     170    68.0    150     90            3     1   \n",
      "25        36   40       1     153    65.0    130    100            2     1   \n",
      "26        37   54       1     156    59.0    130     90            1     1   \n",
      "27        38   50       1     159    78.0    120     80            1     1   \n",
      "28        39   40       2     166    66.0    120     80            1     1   \n",
      "29        40   58       2     169    74.0    130     70            1     3   \n",
      "...      ...  ...     ...     ...     ...    ...    ...          ...   ...   \n",
      "69970  99958   62       2     173   103.0    140     80            3     1   \n",
      "69971  99959   55       2     177    80.0    130     80            1     1   \n",
      "69972  99960   47       1     165    76.0    140     90            1     1   \n",
      "69973  99961   61       2     175    72.0    130     80            1     1   \n",
      "69974  99962   50       1     168    75.0    120     80            1     1   \n",
      "69975  99963   58       2     182   100.0    120     80            1     1   \n",
      "69976  99964   59       1     163    65.0    120     80            2     2   \n",
      "69977  99965   46       1     168    75.0    120     79            1     1   \n",
      "69978  99967   52       1     163    78.0     90     60            1     1   \n",
      "69979  99969   61       1     163    74.0    160    100            2     2   \n",
      "69980  99971   49       2     167    69.0    110     80            1     1   \n",
      "69981  99972   48       2     182   110.0    130     90            2     2   \n",
      "69982  99973   52       1     153    86.0    130     90            1     2   \n",
      "69983  99974   54       1     165    72.0    120     80            1     1   \n",
      "69984  99975   49       2     168    80.0    120     80            1     1   \n",
      "69985  99977   50       1     156   102.0    130     80            1     1   \n",
      "69986  99978   50       2     180    78.0    120     80            1     1   \n",
      "69987  99979   52       1     151    49.0    120     80            1     1   \n",
      "69988  99981   60       1     160    59.0    110     70            1     1   \n",
      "69989  99985   58       1     157    83.0    120     70            1     1   \n",
      "69990  99986   41       1     168    72.0    110     70            1     1   \n",
      "69991  99988   56       1     159    72.0    130     90            2     2   \n",
      "69992  99990   51       1     161    56.0    170     90            1     1   \n",
      "69993  99991   54       1     172    70.0    130     90            1     1   \n",
      "69994  99992   58       1     165    80.0    150     80            1     1   \n",
      "69995  99993   53       2     168    76.0    120     80            1     1   \n",
      "69996  99995   62       1     158   126.0    140     90            2     2   \n",
      "69997  99996   52       2     183   105.0    180     90            3     1   \n",
      "69998  99998   61       1     163    72.0    135     80            1     2   \n",
      "69999  99999   56       1     170    72.0    120     80            2     1   \n",
      "\n",
      "       smoke  alco  active  cardio  \n",
      "0          0     0       1       0  \n",
      "1          0     0       1       1  \n",
      "2          0     0       0       1  \n",
      "3          0     0       1       1  \n",
      "4          0     0       0       0  \n",
      "5          0     0       0       0  \n",
      "6          0     0       1       0  \n",
      "7          0     0       1       1  \n",
      "8          0     0       1       0  \n",
      "9          0     0       0       0  \n",
      "10         0     0       1       0  \n",
      "11         0     0       1       0  \n",
      "12         0     0       0       0  \n",
      "13         0     0       1       0  \n",
      "14         1     1       1       0  \n",
      "15         0     0       0       1  \n",
      "16         0     0       0       0  \n",
      "17         0     0       1       0  \n",
      "18         0     0       0       0  \n",
      "19         1     0       1       0  \n",
      "20         0     0       1       0  \n",
      "21         0     0       1       0  \n",
      "22         0     0       1       1  \n",
      "23         0     0       1       0  \n",
      "24         0     0       1       1  \n",
      "25         0     0       1       0  \n",
      "26         0     0       1       0  \n",
      "27         0     0       1       0  \n",
      "28         0     0       1       0  \n",
      "29         0     0       0       0  \n",
      "...      ...   ...     ...     ...  \n",
      "69970      1     1       0       1  \n",
      "69971      0     0       1       0  \n",
      "69972      0     0       1       1  \n",
      "69973      0     0       1       0  \n",
      "69974      0     0       1       0  \n",
      "69975      0     0       1       1  \n",
      "69976      0     0       1       0  \n",
      "69977      0     0       1       0  \n",
      "69978      0     0       1       1  \n",
      "69979      0     0       1       1  \n",
      "69980      0     1       0       0  \n",
      "69981      0     0       1       1  \n",
      "69982      0     0       1       1  \n",
      "69983      0     0       1       0  \n",
      "69984      0     0       1       1  \n",
      "69985      0     1       0       1  \n",
      "69986      0     0       1       0  \n",
      "69987      0     0       1       0  \n",
      "69988      0     0       1       0  \n",
      "69989      0     0       1       1  \n",
      "69990      0     0       1       1  \n",
      "69991      0     0       1       0  \n",
      "69992      0     0       1       1  \n",
      "69993      0     0       1       1  \n",
      "69994      0     0       1       1  \n",
      "69995      1     0       1       0  \n",
      "69996      0     0       1       1  \n",
      "69997      0     1       0       1  \n",
      "69998      0     0       0       1  \n",
      "69999      0     0       1       0  \n",
      "\n",
      "[68453 rows x 13 columns]\n"
     ]
    }
   ],
   "source": [
    "print(df[df.ap_hi > 50])"
   ]
  },
  {
   "cell_type": "code",
   "execution_count": 9,
   "metadata": {},
   "outputs": [
    {
     "data": {
      "text/html": [
       "<div>\n",
       "<style scoped>\n",
       "    .dataframe tbody tr th:only-of-type {\n",
       "        vertical-align: middle;\n",
       "    }\n",
       "\n",
       "    .dataframe tbody tr th {\n",
       "        vertical-align: top;\n",
       "    }\n",
       "\n",
       "    .dataframe thead th {\n",
       "        text-align: right;\n",
       "    }\n",
       "</style>\n",
       "<table border=\"1\" class=\"dataframe\">\n",
       "  <thead>\n",
       "    <tr style=\"text-align: right;\">\n",
       "      <th></th>\n",
       "      <th>id</th>\n",
       "      <th>age</th>\n",
       "      <th>gender</th>\n",
       "      <th>height</th>\n",
       "      <th>weight</th>\n",
       "      <th>ap_hi</th>\n",
       "      <th>ap_lo</th>\n",
       "      <th>smoke</th>\n",
       "      <th>alco</th>\n",
       "      <th>active</th>\n",
       "      <th>normal Cholesterol level</th>\n",
       "      <th>above normal Cholesterol level</th>\n",
       "      <th>well above normal Cholesterol level</th>\n",
       "      <th>normal Glucose level</th>\n",
       "      <th>above normal Glucose level</th>\n",
       "      <th>well above normal Glucose level</th>\n",
       "      <th>cardio</th>\n",
       "    </tr>\n",
       "  </thead>\n",
       "  <tbody>\n",
       "    <tr>\n",
       "      <th>0</th>\n",
       "      <td>0</td>\n",
       "      <td>50</td>\n",
       "      <td>2</td>\n",
       "      <td>168</td>\n",
       "      <td>62.0</td>\n",
       "      <td>110</td>\n",
       "      <td>80</td>\n",
       "      <td>0</td>\n",
       "      <td>0</td>\n",
       "      <td>1</td>\n",
       "      <td>1</td>\n",
       "      <td>0</td>\n",
       "      <td>0</td>\n",
       "      <td>1</td>\n",
       "      <td>0</td>\n",
       "      <td>0</td>\n",
       "      <td>0</td>\n",
       "    </tr>\n",
       "    <tr>\n",
       "      <th>1</th>\n",
       "      <td>1</td>\n",
       "      <td>55</td>\n",
       "      <td>1</td>\n",
       "      <td>156</td>\n",
       "      <td>85.0</td>\n",
       "      <td>140</td>\n",
       "      <td>90</td>\n",
       "      <td>0</td>\n",
       "      <td>0</td>\n",
       "      <td>1</td>\n",
       "      <td>0</td>\n",
       "      <td>0</td>\n",
       "      <td>1</td>\n",
       "      <td>1</td>\n",
       "      <td>0</td>\n",
       "      <td>0</td>\n",
       "      <td>1</td>\n",
       "    </tr>\n",
       "    <tr>\n",
       "      <th>2</th>\n",
       "      <td>2</td>\n",
       "      <td>52</td>\n",
       "      <td>1</td>\n",
       "      <td>165</td>\n",
       "      <td>64.0</td>\n",
       "      <td>130</td>\n",
       "      <td>70</td>\n",
       "      <td>0</td>\n",
       "      <td>0</td>\n",
       "      <td>0</td>\n",
       "      <td>0</td>\n",
       "      <td>0</td>\n",
       "      <td>1</td>\n",
       "      <td>1</td>\n",
       "      <td>0</td>\n",
       "      <td>0</td>\n",
       "      <td>1</td>\n",
       "    </tr>\n",
       "    <tr>\n",
       "      <th>3</th>\n",
       "      <td>3</td>\n",
       "      <td>48</td>\n",
       "      <td>2</td>\n",
       "      <td>169</td>\n",
       "      <td>82.0</td>\n",
       "      <td>150</td>\n",
       "      <td>100</td>\n",
       "      <td>0</td>\n",
       "      <td>0</td>\n",
       "      <td>1</td>\n",
       "      <td>1</td>\n",
       "      <td>0</td>\n",
       "      <td>0</td>\n",
       "      <td>1</td>\n",
       "      <td>0</td>\n",
       "      <td>0</td>\n",
       "      <td>1</td>\n",
       "    </tr>\n",
       "    <tr>\n",
       "      <th>4</th>\n",
       "      <td>4</td>\n",
       "      <td>48</td>\n",
       "      <td>1</td>\n",
       "      <td>156</td>\n",
       "      <td>56.0</td>\n",
       "      <td>100</td>\n",
       "      <td>60</td>\n",
       "      <td>0</td>\n",
       "      <td>0</td>\n",
       "      <td>0</td>\n",
       "      <td>1</td>\n",
       "      <td>0</td>\n",
       "      <td>0</td>\n",
       "      <td>1</td>\n",
       "      <td>0</td>\n",
       "      <td>0</td>\n",
       "      <td>0</td>\n",
       "    </tr>\n",
       "  </tbody>\n",
       "</table>\n",
       "</div>"
      ],
      "text/plain": [
       "   id  age  gender  height  weight  ap_hi  ap_lo  smoke  alco  active  \\\n",
       "0   0   50       2     168    62.0    110     80      0     0       1   \n",
       "1   1   55       1     156    85.0    140     90      0     0       1   \n",
       "2   2   52       1     165    64.0    130     70      0     0       0   \n",
       "3   3   48       2     169    82.0    150    100      0     0       1   \n",
       "4   4   48       1     156    56.0    100     60      0     0       0   \n",
       "\n",
       "   normal Cholesterol level  above normal Cholesterol level  \\\n",
       "0                         1                               0   \n",
       "1                         0                               0   \n",
       "2                         0                               0   \n",
       "3                         1                               0   \n",
       "4                         1                               0   \n",
       "\n",
       "   well above normal Cholesterol level  normal Glucose level  \\\n",
       "0                                    0                     1   \n",
       "1                                    1                     1   \n",
       "2                                    1                     1   \n",
       "3                                    0                     1   \n",
       "4                                    0                     1   \n",
       "\n",
       "   above normal Glucose level  well above normal Glucose level  cardio  \n",
       "0                           0                                0       0  \n",
       "1                           0                                0       1  \n",
       "2                           0                                0       1  \n",
       "3                           0                                0       1  \n",
       "4                           0                                0       0  "
      ]
     },
     "execution_count": 9,
     "metadata": {},
     "output_type": "execute_result"
    }
   ],
   "source": [
    "# Use onehotencoder to split the variable Cholesterol and Glucose level\n",
    "from sklearn.preprocessing import OneHotEncoder\n",
    "onehotencoder = OneHotEncoder(dtype = int)\n",
    "a = onehotencoder.fit_transform(df.iloc[:, 7].values.reshape(-1,1)).toarray()\n",
    "b = onehotencoder.fit_transform(df.iloc[:, 8].values.reshape(-1,1)).toarray()\n",
    "\n",
    "temp = df.cardio\n",
    "df = df.drop([\"cholesterol\",\"gluc\",\"cardio\"],axis = 1)\n",
    "\n",
    "df[\"normal Cholesterol level\"] = a[:,0]\n",
    "df[\"above normal Cholesterol level\"] = a[:,1]\n",
    "df[\"well above normal Cholesterol level\"] = a[:,2]\n",
    "df[\"normal Glucose level\"] = b[:,0]\n",
    "df[\"above normal Glucose level\"] = b[:,1]\n",
    "df[\"well above normal Glucose level\"] = b[:,2]\n",
    "df[\"cardio\"] = temp\n",
    "df.head()\n"
   ]
  },
  {
   "cell_type": "code",
   "execution_count": 10,
   "metadata": {},
   "outputs": [
    {
     "name": "stdout",
     "output_type": "stream",
     "text": [
      "161.37994036810366\n",
      "169.93789314769774\n"
     ]
    },
    {
     "data": {
      "text/html": [
       "<div>\n",
       "<style scoped>\n",
       "    .dataframe tbody tr th:only-of-type {\n",
       "        vertical-align: middle;\n",
       "    }\n",
       "\n",
       "    .dataframe tbody tr th {\n",
       "        vertical-align: top;\n",
       "    }\n",
       "\n",
       "    .dataframe thead th {\n",
       "        text-align: right;\n",
       "    }\n",
       "</style>\n",
       "<table border=\"1\" class=\"dataframe\">\n",
       "  <thead>\n",
       "    <tr style=\"text-align: right;\">\n",
       "      <th></th>\n",
       "      <th>age</th>\n",
       "      <th>gender</th>\n",
       "      <th>height</th>\n",
       "      <th>weight</th>\n",
       "      <th>ap_hi</th>\n",
       "      <th>ap_lo</th>\n",
       "      <th>smoke</th>\n",
       "      <th>alco</th>\n",
       "      <th>active</th>\n",
       "      <th>normal Cholesterol level</th>\n",
       "      <th>above normal Cholesterol level</th>\n",
       "      <th>well above normal Cholesterol level</th>\n",
       "      <th>normal Glucose level</th>\n",
       "      <th>above normal Glucose level</th>\n",
       "      <th>well above normal Glucose level</th>\n",
       "      <th>cardio</th>\n",
       "    </tr>\n",
       "  </thead>\n",
       "  <tbody>\n",
       "    <tr>\n",
       "      <th>0</th>\n",
       "      <td>50</td>\n",
       "      <td>0</td>\n",
       "      <td>168</td>\n",
       "      <td>62.0</td>\n",
       "      <td>110</td>\n",
       "      <td>80</td>\n",
       "      <td>0</td>\n",
       "      <td>0</td>\n",
       "      <td>1</td>\n",
       "      <td>1</td>\n",
       "      <td>0</td>\n",
       "      <td>0</td>\n",
       "      <td>1</td>\n",
       "      <td>0</td>\n",
       "      <td>0</td>\n",
       "      <td>0</td>\n",
       "    </tr>\n",
       "    <tr>\n",
       "      <th>1</th>\n",
       "      <td>55</td>\n",
       "      <td>1</td>\n",
       "      <td>156</td>\n",
       "      <td>85.0</td>\n",
       "      <td>140</td>\n",
       "      <td>90</td>\n",
       "      <td>0</td>\n",
       "      <td>0</td>\n",
       "      <td>1</td>\n",
       "      <td>0</td>\n",
       "      <td>0</td>\n",
       "      <td>1</td>\n",
       "      <td>1</td>\n",
       "      <td>0</td>\n",
       "      <td>0</td>\n",
       "      <td>1</td>\n",
       "    </tr>\n",
       "    <tr>\n",
       "      <th>2</th>\n",
       "      <td>52</td>\n",
       "      <td>1</td>\n",
       "      <td>165</td>\n",
       "      <td>64.0</td>\n",
       "      <td>130</td>\n",
       "      <td>70</td>\n",
       "      <td>0</td>\n",
       "      <td>0</td>\n",
       "      <td>0</td>\n",
       "      <td>0</td>\n",
       "      <td>0</td>\n",
       "      <td>1</td>\n",
       "      <td>1</td>\n",
       "      <td>0</td>\n",
       "      <td>0</td>\n",
       "      <td>1</td>\n",
       "    </tr>\n",
       "    <tr>\n",
       "      <th>3</th>\n",
       "      <td>48</td>\n",
       "      <td>0</td>\n",
       "      <td>169</td>\n",
       "      <td>82.0</td>\n",
       "      <td>150</td>\n",
       "      <td>100</td>\n",
       "      <td>0</td>\n",
       "      <td>0</td>\n",
       "      <td>1</td>\n",
       "      <td>1</td>\n",
       "      <td>0</td>\n",
       "      <td>0</td>\n",
       "      <td>1</td>\n",
       "      <td>0</td>\n",
       "      <td>0</td>\n",
       "      <td>1</td>\n",
       "    </tr>\n",
       "    <tr>\n",
       "      <th>4</th>\n",
       "      <td>48</td>\n",
       "      <td>1</td>\n",
       "      <td>156</td>\n",
       "      <td>56.0</td>\n",
       "      <td>100</td>\n",
       "      <td>60</td>\n",
       "      <td>0</td>\n",
       "      <td>0</td>\n",
       "      <td>0</td>\n",
       "      <td>1</td>\n",
       "      <td>0</td>\n",
       "      <td>0</td>\n",
       "      <td>1</td>\n",
       "      <td>0</td>\n",
       "      <td>0</td>\n",
       "      <td>0</td>\n",
       "    </tr>\n",
       "  </tbody>\n",
       "</table>\n",
       "</div>"
      ],
      "text/plain": [
       "   age  gender  height  weight  ap_hi  ap_lo  smoke  alco  active  \\\n",
       "0   50       0     168    62.0    110     80      0     0       1   \n",
       "1   55       1     156    85.0    140     90      0     0       1   \n",
       "2   52       1     165    64.0    130     70      0     0       0   \n",
       "3   48       0     169    82.0    150    100      0     0       1   \n",
       "4   48       1     156    56.0    100     60      0     0       0   \n",
       "\n",
       "   normal Cholesterol level  above normal Cholesterol level  \\\n",
       "0                         1                               0   \n",
       "1                         0                               0   \n",
       "2                         0                               0   \n",
       "3                         1                               0   \n",
       "4                         1                               0   \n",
       "\n",
       "   well above normal Cholesterol level  normal Glucose level  \\\n",
       "0                                    0                     1   \n",
       "1                                    1                     1   \n",
       "2                                    1                     1   \n",
       "3                                    0                     1   \n",
       "4                                    0                     1   \n",
       "\n",
       "   above normal Glucose level  well above normal Glucose level  cardio  \n",
       "0                           0                                0       0  \n",
       "1                           0                                0       1  \n",
       "2                           0                                0       1  \n",
       "3                           0                                0       1  \n",
       "4                           0                                0       0  "
      ]
     },
     "execution_count": 10,
     "metadata": {},
     "output_type": "execute_result"
    }
   ],
   "source": [
    "# Since the dataset does not specify the gender, we will deduct the gender code by comparing the avergae heights\n",
    "# Making assumptions that men are taller than women in general\n",
    "# And convert the code 0 for men and 1 for women\n",
    "index1 = np.where(df.iloc[:,2] == 1)[0]\n",
    "index2 = np.where(df.iloc[:,2] == 2)[0]\n",
    "print (np.mean(df.iloc[:,3].values[index1]))\n",
    "print (np.mean(df.iloc[:,3].values[index2]))\n",
    "\n",
    "df.gender = df.gender.apply(lambda x: 0 if x == 2 else 1)\n",
    "df=df.drop('id', axis=1)\n",
    "df.head()"
   ]
  },
  {
   "cell_type": "code",
   "execution_count": 11,
   "metadata": {},
   "outputs": [
    {
     "name": "stdout",
     "output_type": "stream",
     "text": [
      "(array([], dtype=int64),)\n"
     ]
    }
   ],
   "source": [
    "index2 = np.where(df.iloc[:,2] == 2)\n",
    "print(index2)"
   ]
  },
  {
   "cell_type": "markdown",
   "metadata": {},
   "source": [
    "# Data Analysis"
   ]
  },
  {
   "cell_type": "code",
   "execution_count": 12,
   "metadata": {},
   "outputs": [
    {
     "name": "stdout",
     "output_type": "stream",
     "text": [
      "(68453, 16)\n"
     ]
    }
   ],
   "source": [
    "print (df.shape)"
   ]
  },
  {
   "cell_type": "code",
   "execution_count": 13,
   "metadata": {},
   "outputs": [
    {
     "data": {
      "image/png": "[encoded data removed]",
      "text/plain": [
       "<Figure size 432x288 with 2 Axes>"
      ]
     },
     "metadata": {
      "needs_background": "light"
     },
     "output_type": "display_data"
    }
   ],
   "source": [
    "import seaborn as sns\n",
    "%matplotlib inline\n",
    "\n",
    "# calculate the correlation matrix\n",
    "corr = df.corr()\n",
    "\n",
    "# plot the heatmap\n",
    "heatmap_plot = sns.heatmap(corr, \n",
    "               xticklabels=corr.columns,\n",
    "               yticklabels=corr.columns)\n"
   ]
  },
  {
   "cell_type": "code",
   "execution_count": 14,
   "metadata": {},
   "outputs": [],
   "source": [
    "heatmap_plot.get_figure().savefig(\"heatmap_plot.png\")"
   ]
  },
  {
   "cell_type": "code",
   "execution_count": 15,
   "metadata": {},
   "outputs": [
    {
     "data": {
      "image/png": "[encoded data removed]",
      "text/plain": [
       "<Figure size 432x288 with 1 Axes>"
      ]
     },
     "metadata": {
      "needs_background": "light"
     },
     "output_type": "display_data"
    }
   ],
   "source": [
    "balance_plot = sns.countplot(x=\"cardio\", data=df)\n",
    "balance_plot.get_figure().savefig(\"balance_plot.png\")"
   ]
  },
  {
   "cell_type": "code",
   "execution_count": 16,
   "metadata": {},
   "outputs": [
    {
     "data": {
      "image/png": "[encoded data removed]",
      "text/plain": [
       "<Figure size 432x288 with 1 Axes>"
      ]
     },
     "metadata": {
      "needs_background": "light"
     },
     "output_type": "display_data"
    }
   ],
   "source": [
    "dist_cardio = sns.countplot(x=\"age\",hue=\"cardio\",data=df);\n",
    "dist_cardio.get_figure().savefig(\"dist_cardio_plot.png\")"
   ]
  },
  {
   "cell_type": "code",
   "execution_count": 17,
   "metadata": {},
   "outputs": [],
   "source": [
    "from sklearn.preprocessing import OneHotEncoder\n",
    "enc = OneHotEncoder()"
   ]
  },
  {
   "cell_type": "markdown",
   "metadata": {},
   "source": [
    "# Model Buidling"
   ]
  },
  {
   "cell_type": "code",
   "execution_count": 18,
   "metadata": {},
   "outputs": [],
   "source": [
    "X = df.loc[:,\"age\":\"well above normal Glucose level\"]\n",
    "y = df['cardio']"
   ]
  },
  {
   "cell_type": "code",
   "execution_count": 27,
   "metadata": {
    "scrolled": true
   },
   "outputs": [],
   "source": [
    "import numpy as np\n",
    "np.random.seed(10)\n",
    "\n",
    "import matplotlib.pyplot as plt\n",
    "\n",
    "from sklearn.datasets import make_classification\n",
    "from sklearn.linear_model import LogisticRegression\n",
    "from sklearn.ensemble import (RandomTreesEmbedding, RandomForestClassifier,\n",
    "                              GradientBoostingClassifier)\n",
    "from sklearn.preprocessing import OneHotEncoder\n",
    "from sklearn.model_selection import train_test_split\n",
    "from sklearn.metrics import roc_curve\n",
    "from sklearn.pipeline import make_pipeline\n",
    "\n",
    "X_train, X_test, y_train, y_test = train_test_split(X, y, test_size=0.3)"
   ]
  },
  {
   "cell_type": "markdown",
   "metadata": {},
   "source": [
    "# Random Forest"
   ]
  },
  {
   "cell_type": "code",
   "execution_count": 30,
   "metadata": {},
   "outputs": [],
   "source": [
    "from sklearn.model_selection import RandomizedSearchCV\n",
    "# Number of trees in random forest\n",
    "n_estimators = [int(x) for x in np.linspace(start = 200, stop = 3000, num = 10)]\n",
    "# Number of features to consider at every split\n",
    "max_features = ['auto', 'sqrt']\n",
    "# Maximum number of levels in tree\n",
    "max_depth = [int(x) for x in np.linspace(10, 110, num = 11)]\n",
    "max_depth.append(None)\n",
    "# Minimum number of samples required to split a node\n",
    "min_samples_split = [2, 5, 10]\n",
    "# Minimum number of samples required at each leaf node\n",
    "min_samples_leaf = [1, 2, 4]\n",
    "# Method of selecting samples for training each tree\n",
    "bootstrap = [True, False]\n",
    "# Create the random grid\n",
    "random_grid = {'n_estimators': n_estimators,\n",
    "               'max_features': max_features,\n",
    "               'max_depth': max_depth,\n",
    "               'min_samples_split': min_samples_split,\n",
    "               'min_samples_leaf': min_samples_leaf,\n",
    "               'bootstrap': bootstrap}"
   ]
  },
  {
   "cell_type": "code",
   "execution_count": null,
   "metadata": {},
   "outputs": [
    {
     "name": "stdout",
     "output_type": "stream",
     "text": [
      "Fitting 3 folds for each of 100 candidates, totalling 300 fits\n"
     ]
    },
    {
     "name": "stderr",
     "output_type": "stream",
     "text": [
      "[Parallel(n_jobs=-1)]: Done  33 tasks      | elapsed:  8.7min\n"
     ]
    }
   ],
   "source": [
    "# Supervised transformation based on random forests\n",
    "rf_clf = RandomForestClassifier()\n",
    "rf_random = RandomizedSearchCV(estimator = rf_clf, \n",
    "                               param_distributions = random_grid, \n",
    "                               n_iter = 100, \n",
    "                               cv = 3, \n",
    "                               verbose=2, \n",
    "                               random_state=42, \n",
    "                               n_jobs = -1)\n",
    "# Fit the random search model\n",
    "rf_random.fit(X_train, y_train)"
   ]
  },
  {
   "cell_type": "code",
   "execution_count": 96,
   "metadata": {},
   "outputs": [
    {
     "data": {
      "text/plain": [
       "{'bootstrap': True,\n",
       " 'max_depth': 10,\n",
       " 'max_features': 'sqrt',\n",
       " 'min_samples_leaf': 2,\n",
       " 'min_samples_split': 10,\n",
       " 'n_estimators': 1444}"
      ]
     },
     "execution_count": 96,
     "metadata": {},
     "output_type": "execute_result"
    }
   ],
   "source": [
    "rf_random.best_params_"
   ]
  },
  {
   "cell_type": "code",
   "execution_count": 18,
   "metadata": {},
   "outputs": [],
   "source": [
    "from sklearn.metrics import accuracy_score\n",
    "def evaluate(model, test_features, test_labels):\n",
    "    predictions = model.predict(test_features)\n",
    "    accuracy = accuracy_score(predictions, test_labels)\n",
    "    print('Model Performance')\n",
    "    print('Accuracy %.4f'% accuracy)\n",
    "    return round(accuracy,4)"
   ]
  },
  {
   "cell_type": "code",
   "execution_count": 125,
   "metadata": {},
   "outputs": [
    {
     "name": "stdout",
     "output_type": "stream",
     "text": [
      "Model Performance\n",
      "Accuracy 0.69\n"
     ]
    }
   ],
   "source": [
    "base_rf_model = RandomForestClassifier(n_estimators = 10)\n",
    "base_rf_model.fit(X_train, y_train)\n",
    "base_rf_accuracy = evaluate(base_rf_model, X_test, y_test)"
   ]
  },
  {
   "cell_type": "code",
   "execution_count": 32,
   "metadata": {},
   "outputs": [
    {
     "data": {
      "text/plain": [
       "RandomForestClassifier(bootstrap=True, class_weight=None, criterion='gini',\n",
       "            max_depth=10, max_features='sqrt', max_leaf_nodes=None,\n",
       "            min_impurity_decrease=0.0, min_impurity_split=None,\n",
       "            min_samples_leaf=2, min_samples_split=10,\n",
       "            min_weight_fraction_leaf=0.0, n_estimators=1444, n_jobs=1,\n",
       "            oob_score=False, random_state=None, verbose=0,\n",
       "            warm_start=False)"
      ]
     },
     "execution_count": 32,
     "metadata": {},
     "output_type": "execute_result"
    }
   ],
   "source": [
    "best_rf = RandomForestClassifier(max_depth=10, \n",
    "                                 max_features='sqrt',\n",
    "                                 min_samples_leaf=2,\n",
    "                                 min_samples_split=10,\n",
    "                                 n_estimators = 1444)\n",
    "#best_rf_accuracy = evaluate(best_rf, X_test, y_test)"
   ]
  },
  {
   "cell_type": "code",
   "execution_count": 34,
   "metadata": {},
   "outputs": [
    {
     "name": "stdout",
     "output_type": "stream",
     "text": [
      "13.7 s ± 122 ms per loop (mean ± std. dev. of 7 runs, 1 loop each)\n"
     ]
    }
   ],
   "source": [
    "%timeit best_rf.fit(X_train, y_train)"
   ]
  },
  {
   "cell_type": "code",
   "execution_count": 119,
   "metadata": {},
   "outputs": [
    {
     "name": "stdout",
     "output_type": "stream",
     "text": [
      "Improvement of 5.80%.\n"
     ]
    }
   ],
   "source": [
    "print('Improvement of {:0.2f}%.'.format( 100 * (best_rf_accuracy - base_rf_accuracy) / base_rf_accuracy))"
   ]
  },
  {
   "cell_type": "code",
   "execution_count": 37,
   "metadata": {},
   "outputs": [],
   "source": [
    "rf_pred = best_rf.predict_proba(X_test)[:,1]\n",
    "fpr_rf, tpr_rf, _ = roc_curve(y_test, rf_pred)"
   ]
  },
  {
   "cell_type": "code",
   "execution_count": 62,
   "metadata": {},
   "outputs": [
    {
     "data": {
      "text/plain": [
       "15"
      ]
     },
     "execution_count": 62,
     "metadata": {},
     "output_type": "execute_result"
    }
   ],
   "source": [
    "X.shape[1]"
   ]
  },
  {
   "cell_type": "code",
   "execution_count": 69,
   "metadata": {},
   "outputs": [
    {
     "data": {
      "image/png": "[encoded data removed]",
      "text/plain": [
       "<Figure size 432x288 with 1 Axes>"
      ]
     },
     "metadata": {
      "needs_background": "light"
     },
     "output_type": "display_data"
    }
   ],
   "source": [
    "%matplotlib inline\n",
    "feats = {} # a dict to hold feature_name: feature_importance\n",
    "for feature, importance in zip(X.columns, best_rf.feature_importances_):\n",
    "    feats[feature] = importance #add the name/value pair \n",
    "\n",
    "importances = pd.DataFrame.from_dict(feats, orient='index').rename(columns={0: 'Gini-importance'})\n",
    "importance_plot = importances.sort_values(by='Gini-importance').plot(kind='bar')"
   ]
  },
  {
   "cell_type": "code",
   "execution_count": 70,
   "metadata": {},
   "outputs": [],
   "source": [
    "importance_plot.get_figure().savefig(\"importance_plot.png\")"
   ]
  },
  {
   "cell_type": "code",
   "execution_count": 91,
   "metadata": {},
   "outputs": [
    {
     "name": "stdout",
     "output_type": "stream",
     "text": [
      "Model Performance\n",
      "Accuracy 0.73\n"
     ]
    },
    {
     "data": {
      "text/plain": [
       "0.72999999999999998"
      ]
     },
     "execution_count": 91,
     "metadata": {},
     "output_type": "execute_result"
    }
   ],
   "source": [
    "evaluate(best_rf, X_test, y_test)"
   ]
  },
  {
   "cell_type": "markdown",
   "metadata": {},
   "source": [
    "# GDBT"
   ]
  },
  {
   "cell_type": "code",
   "execution_count": 71,
   "metadata": {},
   "outputs": [],
   "source": [
    "# Number of trees in random forest\n",
    "n_estimators = [100, 1000,1500,2000,2500,3000,3500,4000]\n",
    "# Number of features to consider at every split\n",
    "max_features = ['auto', 'sqrt']\n",
    "# Maximum number of levels in tree\n",
    "max_depth = [int(x) for x in np.linspace(10, 110, num = 11)]\n",
    "max_depth.append(None)\n",
    "# Minimum number of samples required to split a node\n",
    "min_samples_split = [2, 5, 10, 15]\n",
    "# Minimum number of samples required at each leaf node\n",
    "min_samples_leaf = [1, 2, 4, 6]\n",
    "# Learning rate\n",
    "learning_rate = [1, 0.5, 0.25, 0.1, 0.05, 0.01]\n",
    "# Create the random grid\n",
    "gbdt_random_grid = {'n_estimators': n_estimators,\n",
    "                    'max_features': max_features,\n",
    "                    'max_depth': max_depth,\n",
    "                    'min_samples_split': min_samples_split,\n",
    "                    'min_samples_leaf': min_samples_leaf,\n",
    "                    'learning_rate': learning_rate}"
   ]
  },
  {
   "cell_type": "code",
   "execution_count": 41,
   "metadata": {},
   "outputs": [
    {
     "ename": "SyntaxError",
     "evalue": "invalid syntax (<ipython-input-41-d239a159914d>, line 1)",
     "output_type": "error",
     "traceback": [
      "\u001b[0;36m  File \u001b[0;32m\"<ipython-input-41-d239a159914d>\"\u001b[0;36m, line \u001b[0;32m1\u001b[0m\n\u001b[0;31m    (n_estimators = [int(x) for x in np.linspace(start = 2000, stop = 6000, num = 300)])\u001b[0m\n\u001b[0m                  ^\u001b[0m\n\u001b[0;31mSyntaxError\u001b[0m\u001b[0;31m:\u001b[0m invalid syntax\n"
     ]
    }
   ],
   "source": []
  },
  {
   "cell_type": "code",
   "execution_count": 72,
   "metadata": {},
   "outputs": [
    {
     "name": "stdout",
     "output_type": "stream",
     "text": [
      "Fitting 3 folds for each of 100 candidates, totalling 300 fits\n",
      "[CV] max_features=sqrt, min_samples_split=10, n_estimators=2000, learning_rate=0.01, max_depth=20, min_samples_leaf=2 \n",
      "[CV] max_features=sqrt, min_samples_split=10, n_estimators=2000, learning_rate=0.01, max_depth=20, min_samples_leaf=2 \n",
      "[CV] max_features=sqrt, min_samples_split=10, n_estimators=2000, learning_rate=0.01, max_depth=20, min_samples_leaf=2 \n",
      "[CV] max_features=auto, min_samples_split=15, n_estimators=2500, learning_rate=1, max_depth=40, min_samples_leaf=4 \n",
      "[CV] max_features=auto, min_samples_split=15, n_estimators=2500, learning_rate=1, max_depth=40, min_samples_leaf=4 \n",
      "[CV] max_features=auto, min_samples_split=15, n_estimators=2500, learning_rate=1, max_depth=40, min_samples_leaf=4 \n",
      "[CV] max_features=auto, min_samples_split=5, n_estimators=3500, learning_rate=0.5, max_depth=100, min_samples_leaf=1 \n",
      "[CV] max_features=auto, min_samples_split=5, n_estimators=3500, learning_rate=0.5, max_depth=100, min_samples_leaf=1 \n",
      "[CV]  max_features=sqrt, min_samples_split=10, n_estimators=2000, learning_rate=0.01, max_depth=20, min_samples_leaf=2, total= 7.8min\n",
      "[CV] max_features=auto, min_samples_split=5, n_estimators=3500, learning_rate=0.5, max_depth=100, min_samples_leaf=1 \n",
      "[CV]  max_features=auto, min_samples_split=15, n_estimators=2500, learning_rate=1, max_depth=40, min_samples_leaf=4, total= 7.8min\n",
      "[CV] max_features=sqrt, min_samples_split=15, n_estimators=2500, learning_rate=0.1, max_depth=110, min_samples_leaf=2 \n",
      "[CV]  max_features=sqrt, min_samples_split=10, n_estimators=2000, learning_rate=0.01, max_depth=20, min_samples_leaf=2, total= 7.9min\n",
      "[CV] max_features=sqrt, min_samples_split=15, n_estimators=2500, learning_rate=0.1, max_depth=110, min_samples_leaf=2 \n",
      "[CV]  max_features=sqrt, min_samples_split=10, n_estimators=2000, learning_rate=0.01, max_depth=20, min_samples_leaf=2, total= 8.0min\n",
      "[CV] max_features=sqrt, min_samples_split=15, n_estimators=2500, learning_rate=0.1, max_depth=110, min_samples_leaf=2 \n",
      "[CV]  max_features=auto, min_samples_split=15, n_estimators=2500, learning_rate=1, max_depth=40, min_samples_leaf=4, total= 8.4min\n",
      "[CV] max_features=auto, min_samples_split=10, n_estimators=2500, learning_rate=0.1, max_depth=90, min_samples_leaf=1 \n",
      "[CV]  max_features=auto, min_samples_split=15, n_estimators=2500, learning_rate=1, max_depth=40, min_samples_leaf=4, total= 9.3min\n",
      "[CV] max_features=auto, min_samples_split=10, n_estimators=2500, learning_rate=0.1, max_depth=90, min_samples_leaf=1 \n",
      "[CV]  max_features=sqrt, min_samples_split=15, n_estimators=2500, learning_rate=0.1, max_depth=110, min_samples_leaf=2, total= 4.3min\n",
      "[CV] max_features=auto, min_samples_split=10, n_estimators=2500, learning_rate=0.1, max_depth=90, min_samples_leaf=1 \n",
      "[CV]  max_features=sqrt, min_samples_split=15, n_estimators=2500, learning_rate=0.1, max_depth=110, min_samples_leaf=2, total= 4.2min\n",
      "[CV] max_features=auto, min_samples_split=15, n_estimators=1000, learning_rate=0.25, max_depth=10, min_samples_leaf=6 \n",
      "[CV]  max_features=sqrt, min_samples_split=15, n_estimators=2500, learning_rate=0.1, max_depth=110, min_samples_leaf=2, total= 4.6min\n",
      "[CV] max_features=auto, min_samples_split=15, n_estimators=1000, learning_rate=0.25, max_depth=10, min_samples_leaf=6 \n",
      "[CV]  max_features=auto, min_samples_split=15, n_estimators=1000, learning_rate=0.25, max_depth=10, min_samples_leaf=6, total= 2.1min\n",
      "[CV] max_features=auto, min_samples_split=15, n_estimators=1000, learning_rate=0.25, max_depth=10, min_samples_leaf=6 \n",
      "[CV]  max_features=auto, min_samples_split=15, n_estimators=1000, learning_rate=0.25, max_depth=10, min_samples_leaf=6, total= 2.1min\n",
      "[CV] max_features=sqrt, min_samples_split=10, n_estimators=1500, learning_rate=0.01, max_depth=60, min_samples_leaf=4 \n",
      "[CV]  max_features=auto, min_samples_split=15, n_estimators=1000, learning_rate=0.25, max_depth=10, min_samples_leaf=6, total= 2.1min\n",
      "[CV] max_features=sqrt, min_samples_split=10, n_estimators=1500, learning_rate=0.01, max_depth=60, min_samples_leaf=4 \n",
      "[CV]  max_features=auto, min_samples_split=5, n_estimators=3500, learning_rate=0.5, max_depth=100, min_samples_leaf=1, total=19.4min\n",
      "[CV] max_features=sqrt, min_samples_split=10, n_estimators=1500, learning_rate=0.01, max_depth=60, min_samples_leaf=4 \n",
      "[CV]  max_features=sqrt, min_samples_split=10, n_estimators=1500, learning_rate=0.01, max_depth=60, min_samples_leaf=4, total= 6.1min\n",
      "[CV] max_features=auto, min_samples_split=5, n_estimators=1500, learning_rate=0.5, max_depth=60, min_samples_leaf=4 \n",
      "[CV]  max_features=auto, min_samples_split=10, n_estimators=2500, learning_rate=0.1, max_depth=90, min_samples_leaf=1, total=13.6min\n",
      "[CV] max_features=auto, min_samples_split=5, n_estimators=1500, learning_rate=0.5, max_depth=60, min_samples_leaf=4 \n",
      "[CV]  max_features=auto, min_samples_split=5, n_estimators=3500, learning_rate=0.5, max_depth=100, min_samples_leaf=1, total=22.4min\n",
      "[CV] max_features=auto, min_samples_split=5, n_estimators=1500, learning_rate=0.5, max_depth=60, min_samples_leaf=4 \n",
      "[CV]  max_features=sqrt, min_samples_split=10, n_estimators=1500, learning_rate=0.01, max_depth=60, min_samples_leaf=4, total= 6.1min\n",
      "[CV] max_features=auto, min_samples_split=10, n_estimators=4000, learning_rate=0.05, max_depth=90, min_samples_leaf=4 \n",
      "[CV]  max_features=auto, min_samples_split=10, n_estimators=2500, learning_rate=0.1, max_depth=90, min_samples_leaf=1, total=14.4min\n",
      "[CV] max_features=auto, min_samples_split=10, n_estimators=4000, learning_rate=0.05, max_depth=90, min_samples_leaf=4 \n",
      "[CV]  max_features=auto, min_samples_split=10, n_estimators=2500, learning_rate=0.1, max_depth=90, min_samples_leaf=1, total=11.8min\n",
      "[CV] max_features=auto, min_samples_split=10, n_estimators=4000, learning_rate=0.05, max_depth=90, min_samples_leaf=4 \n",
      "[CV]  max_features=sqrt, min_samples_split=10, n_estimators=1500, learning_rate=0.01, max_depth=60, min_samples_leaf=4, total= 6.1min\n",
      "[CV] max_features=auto, min_samples_split=2, n_estimators=2000, learning_rate=0.1, max_depth=90, min_samples_leaf=6 \n",
      "[CV]  max_features=auto, min_samples_split=5, n_estimators=3500, learning_rate=0.5, max_depth=100, min_samples_leaf=1, total=18.0min\n",
      "[CV] max_features=auto, min_samples_split=2, n_estimators=2000, learning_rate=0.1, max_depth=90, min_samples_leaf=6 \n",
      "[CV]  max_features=auto, min_samples_split=5, n_estimators=1500, learning_rate=0.5, max_depth=60, min_samples_leaf=4, total= 6.7min\n",
      "[CV] max_features=auto, min_samples_split=2, n_estimators=2000, learning_rate=0.1, max_depth=90, min_samples_leaf=6 \n",
      "[CV]  max_features=auto, min_samples_split=5, n_estimators=1500, learning_rate=0.5, max_depth=60, min_samples_leaf=4, total= 5.9min\n",
      "[CV] max_features=sqrt, min_samples_split=10, n_estimators=4000, learning_rate=0.01, max_depth=30, min_samples_leaf=1 \n",
      "[CV]  max_features=auto, min_samples_split=5, n_estimators=1500, learning_rate=0.5, max_depth=60, min_samples_leaf=4, total= 7.3min\n",
      "[CV] max_features=sqrt, min_samples_split=10, n_estimators=4000, learning_rate=0.01, max_depth=30, min_samples_leaf=1 \n",
      "[CV]  max_features=auto, min_samples_split=2, n_estimators=2000, learning_rate=0.1, max_depth=90, min_samples_leaf=6, total=14.5min\n",
      "[CV] max_features=sqrt, min_samples_split=10, n_estimators=4000, learning_rate=0.01, max_depth=30, min_samples_leaf=1 \n"
     ]
    },
    {
     "name": "stderr",
     "output_type": "stream",
     "text": [
      "[Parallel(n_jobs=-1)]: Done  25 tasks      | elapsed: 40.2min\n"
     ]
    },
    {
     "name": "stdout",
     "output_type": "stream",
     "text": [
      "[CV]  max_features=auto, min_samples_split=2, n_estimators=2000, learning_rate=0.1, max_depth=90, min_samples_leaf=6, total=14.9min\n",
      "[CV] max_features=sqrt, min_samples_split=2, n_estimators=1500, learning_rate=0.25, max_depth=90, min_samples_leaf=1 \n",
      "[CV]  max_features=auto, min_samples_split=2, n_estimators=2000, learning_rate=0.1, max_depth=90, min_samples_leaf=6, total=13.5min\n",
      "[CV] max_features=sqrt, min_samples_split=2, n_estimators=1500, learning_rate=0.25, max_depth=90, min_samples_leaf=1 \n",
      "[CV]  max_features=sqrt, min_samples_split=2, n_estimators=1500, learning_rate=0.25, max_depth=90, min_samples_leaf=1, total= 4.1min\n",
      "[CV] max_features=sqrt, min_samples_split=2, n_estimators=1500, learning_rate=0.25, max_depth=90, min_samples_leaf=1 \n",
      "[CV]  max_features=sqrt, min_samples_split=2, n_estimators=1500, learning_rate=0.25, max_depth=90, min_samples_leaf=1, total= 4.4min\n",
      "[CV] max_features=sqrt, min_samples_split=10, n_estimators=3000, learning_rate=1, max_depth=70, min_samples_leaf=1 \n",
      "[CV]  max_features=auto, min_samples_split=10, n_estimators=4000, learning_rate=0.05, max_depth=90, min_samples_leaf=4, total=23.2min\n",
      "[CV] max_features=sqrt, min_samples_split=10, n_estimators=3000, learning_rate=1, max_depth=70, min_samples_leaf=1 \n",
      "[CV]  max_features=auto, min_samples_split=10, n_estimators=4000, learning_rate=0.05, max_depth=90, min_samples_leaf=4, total=24.9min\n",
      "[CV] max_features=sqrt, min_samples_split=10, n_estimators=3000, learning_rate=1, max_depth=70, min_samples_leaf=1 \n",
      "[CV]  max_features=sqrt, min_samples_split=2, n_estimators=1500, learning_rate=0.25, max_depth=90, min_samples_leaf=1, total= 3.8min\n",
      "[CV] max_features=auto, min_samples_split=2, n_estimators=1000, learning_rate=1, max_depth=40, min_samples_leaf=1 \n",
      "[CV]  max_features=sqrt, min_samples_split=10, n_estimators=4000, learning_rate=0.01, max_depth=30, min_samples_leaf=1, total=20.8min\n",
      "[CV] max_features=auto, min_samples_split=2, n_estimators=1000, learning_rate=1, max_depth=40, min_samples_leaf=1 \n",
      "[CV]  max_features=auto, min_samples_split=10, n_estimators=4000, learning_rate=0.05, max_depth=90, min_samples_leaf=4, total=26.2min\n",
      "[CV] max_features=auto, min_samples_split=2, n_estimators=1000, learning_rate=1, max_depth=40, min_samples_leaf=1 \n",
      "[CV]  max_features=sqrt, min_samples_split=10, n_estimators=3000, learning_rate=1, max_depth=70, min_samples_leaf=1, total= 4.8min\n",
      "[CV] max_features=sqrt, min_samples_split=2, n_estimators=1000, learning_rate=1, max_depth=100, min_samples_leaf=1 \n",
      "[CV]  max_features=sqrt, min_samples_split=10, n_estimators=4000, learning_rate=0.01, max_depth=30, min_samples_leaf=1, total=21.0min\n",
      "[CV] max_features=sqrt, min_samples_split=2, n_estimators=1000, learning_rate=1, max_depth=100, min_samples_leaf=1 \n",
      "[CV]  max_features=sqrt, min_samples_split=10, n_estimators=3000, learning_rate=1, max_depth=70, min_samples_leaf=1, total= 4.6min\n",
      "[CV] max_features=sqrt, min_samples_split=2, n_estimators=1000, learning_rate=1, max_depth=100, min_samples_leaf=1 \n",
      "[CV]  max_features=sqrt, min_samples_split=10, n_estimators=3000, learning_rate=1, max_depth=70, min_samples_leaf=1, total= 5.3min\n",
      "[CV] max_features=sqrt, min_samples_split=15, n_estimators=4000, learning_rate=0.5, max_depth=90, min_samples_leaf=2 \n",
      "[CV]  max_features=sqrt, min_samples_split=2, n_estimators=1000, learning_rate=1, max_depth=100, min_samples_leaf=1, total= 2.4min\n",
      "[CV] max_features=sqrt, min_samples_split=15, n_estimators=4000, learning_rate=0.5, max_depth=90, min_samples_leaf=2 \n",
      "[CV]  max_features=sqrt, min_samples_split=2, n_estimators=1000, learning_rate=1, max_depth=100, min_samples_leaf=1, total= 2.7min\n",
      "[CV] max_features=sqrt, min_samples_split=15, n_estimators=4000, learning_rate=0.5, max_depth=90, min_samples_leaf=2 \n",
      "[CV]  max_features=auto, min_samples_split=2, n_estimators=1000, learning_rate=1, max_depth=40, min_samples_leaf=1, total= 4.3min\n",
      "[CV] max_features=sqrt, min_samples_split=15, n_estimators=2000, learning_rate=0.5, max_depth=80, min_samples_leaf=2 \n",
      "[CV]  max_features=auto, min_samples_split=2, n_estimators=1000, learning_rate=1, max_depth=40, min_samples_leaf=1, total= 3.9min\n",
      "[CV] max_features=sqrt, min_samples_split=15, n_estimators=2000, learning_rate=0.5, max_depth=80, min_samples_leaf=2 \n",
      "[CV]  max_features=sqrt, min_samples_split=2, n_estimators=1000, learning_rate=1, max_depth=100, min_samples_leaf=1, total= 2.3min\n",
      "[CV] max_features=sqrt, min_samples_split=15, n_estimators=2000, learning_rate=0.5, max_depth=80, min_samples_leaf=2 \n",
      "[CV]  max_features=auto, min_samples_split=2, n_estimators=1000, learning_rate=1, max_depth=40, min_samples_leaf=1, total= 5.6min\n",
      "[CV] max_features=auto, min_samples_split=10, n_estimators=2500, learning_rate=0.25, max_depth=20, min_samples_leaf=1 \n",
      "[CV]  max_features=sqrt, min_samples_split=15, n_estimators=2000, learning_rate=0.5, max_depth=80, min_samples_leaf=2, total= 2.6min\n",
      "[CV] max_features=auto, min_samples_split=10, n_estimators=2500, learning_rate=0.25, max_depth=20, min_samples_leaf=1 \n",
      "[CV]  max_features=sqrt, min_samples_split=10, n_estimators=4000, learning_rate=0.01, max_depth=30, min_samples_leaf=1, total=15.9min\n",
      "[CV] max_features=auto, min_samples_split=10, n_estimators=2500, learning_rate=0.25, max_depth=20, min_samples_leaf=1 \n",
      "[CV]  max_features=sqrt, min_samples_split=15, n_estimators=2000, learning_rate=0.5, max_depth=80, min_samples_leaf=2, total= 2.8min\n",
      "[CV] max_features=sqrt, min_samples_split=2, n_estimators=100, learning_rate=0.01, max_depth=90, min_samples_leaf=2 \n",
      "[CV]  max_features=sqrt, min_samples_split=15, n_estimators=2000, learning_rate=0.5, max_depth=80, min_samples_leaf=2, total= 2.5min\n",
      "[CV] max_features=sqrt, min_samples_split=2, n_estimators=100, learning_rate=0.01, max_depth=90, min_samples_leaf=2 \n",
      "[CV]  max_features=sqrt, min_samples_split=15, n_estimators=4000, learning_rate=0.5, max_depth=90, min_samples_leaf=2, total= 4.9min\n",
      "[CV] max_features=sqrt, min_samples_split=2, n_estimators=100, learning_rate=0.01, max_depth=90, min_samples_leaf=2 \n",
      "[CV]  max_features=sqrt, min_samples_split=2, n_estimators=100, learning_rate=0.01, max_depth=90, min_samples_leaf=2, total=  57.8s\n",
      "[CV] max_features=sqrt, min_samples_split=15, n_estimators=2500, learning_rate=0.25, max_depth=10, min_samples_leaf=6 \n",
      "[CV]  max_features=sqrt, min_samples_split=15, n_estimators=4000, learning_rate=0.5, max_depth=90, min_samples_leaf=2, total= 4.7min\n",
      "[CV] max_features=sqrt, min_samples_split=15, n_estimators=2500, learning_rate=0.25, max_depth=10, min_samples_leaf=6 \n",
      "[CV]  max_features=sqrt, min_samples_split=2, n_estimators=100, learning_rate=0.01, max_depth=90, min_samples_leaf=2, total=  57.7s\n",
      "[CV] max_features=sqrt, min_samples_split=15, n_estimators=2500, learning_rate=0.25, max_depth=10, min_samples_leaf=6 \n",
      "[CV]  max_features=sqrt, min_samples_split=15, n_estimators=4000, learning_rate=0.5, max_depth=90, min_samples_leaf=2, total= 5.4min\n",
      "[CV] max_features=sqrt, min_samples_split=15, n_estimators=1500, learning_rate=0.25, max_depth=100, min_samples_leaf=4 \n",
      "[CV]  max_features=sqrt, min_samples_split=2, n_estimators=100, learning_rate=0.01, max_depth=90, min_samples_leaf=2, total=  57.5s\n",
      "[CV] max_features=sqrt, min_samples_split=15, n_estimators=1500, learning_rate=0.25, max_depth=100, min_samples_leaf=4 \n",
      "[CV]  max_features=sqrt, min_samples_split=15, n_estimators=2500, learning_rate=0.25, max_depth=10, min_samples_leaf=6, total= 1.7min\n",
      "[CV] max_features=sqrt, min_samples_split=15, n_estimators=1500, learning_rate=0.25, max_depth=100, min_samples_leaf=4 \n",
      "[CV]  max_features=sqrt, min_samples_split=15, n_estimators=2500, learning_rate=0.25, max_depth=10, min_samples_leaf=6, total= 1.7min\n",
      "[CV] max_features=sqrt, min_samples_split=15, n_estimators=4000, learning_rate=0.01, max_depth=None, min_samples_leaf=6 \n",
      "[CV]  max_features=sqrt, min_samples_split=15, n_estimators=2500, learning_rate=0.25, max_depth=10, min_samples_leaf=6, total= 1.8min\n",
      "[CV] max_features=sqrt, min_samples_split=15, n_estimators=4000, learning_rate=0.01, max_depth=None, min_samples_leaf=6 \n",
      "[CV]  max_features=sqrt, min_samples_split=15, n_estimators=1500, learning_rate=0.25, max_depth=100, min_samples_leaf=4, total= 2.0min\n",
      "[CV] max_features=sqrt, min_samples_split=15, n_estimators=4000, learning_rate=0.01, max_depth=None, min_samples_leaf=6 \n"
     ]
    },
    {
     "name": "stdout",
     "output_type": "stream",
     "text": [
      "[CV]  max_features=sqrt, min_samples_split=15, n_estimators=1500, learning_rate=0.25, max_depth=100, min_samples_leaf=4, total= 2.1min\n",
      "[CV] max_features=sqrt, min_samples_split=15, n_estimators=2000, learning_rate=1, max_depth=110, min_samples_leaf=2 \n",
      "[CV]  max_features=auto, min_samples_split=10, n_estimators=2500, learning_rate=0.25, max_depth=20, min_samples_leaf=1, total= 6.5min\n",
      "[CV] max_features=sqrt, min_samples_split=15, n_estimators=2000, learning_rate=1, max_depth=110, min_samples_leaf=2 \n",
      "[CV]  max_features=sqrt, min_samples_split=15, n_estimators=1500, learning_rate=0.25, max_depth=100, min_samples_leaf=4, total= 1.9min\n",
      "[CV] max_features=sqrt, min_samples_split=15, n_estimators=2000, learning_rate=1, max_depth=110, min_samples_leaf=2 \n",
      "[CV]  max_features=auto, min_samples_split=10, n_estimators=2500, learning_rate=0.25, max_depth=20, min_samples_leaf=1, total= 6.1min\n",
      "[CV] max_features=sqrt, min_samples_split=15, n_estimators=3000, learning_rate=1, max_depth=10, min_samples_leaf=2 \n",
      "[CV]  max_features=auto, min_samples_split=10, n_estimators=2500, learning_rate=0.25, max_depth=20, min_samples_leaf=1, total= 7.2min\n",
      "[CV] max_features=sqrt, min_samples_split=15, n_estimators=3000, learning_rate=1, max_depth=10, min_samples_leaf=2 \n",
      "[CV]  max_features=sqrt, min_samples_split=15, n_estimators=2000, learning_rate=1, max_depth=110, min_samples_leaf=2, total= 2.5min\n",
      "[CV] max_features=sqrt, min_samples_split=15, n_estimators=3000, learning_rate=1, max_depth=10, min_samples_leaf=2 \n",
      "[CV]  max_features=sqrt, min_samples_split=15, n_estimators=3000, learning_rate=1, max_depth=10, min_samples_leaf=2, total= 1.6min\n",
      "[CV] max_features=sqrt, min_samples_split=15, n_estimators=3000, learning_rate=1, max_depth=None, min_samples_leaf=2 \n",
      "[CV]  max_features=sqrt, min_samples_split=15, n_estimators=2000, learning_rate=1, max_depth=110, min_samples_leaf=2, total= 2.4min\n",
      "[CV] max_features=sqrt, min_samples_split=15, n_estimators=3000, learning_rate=1, max_depth=None, min_samples_leaf=2 \n",
      "[CV]  max_features=sqrt, min_samples_split=15, n_estimators=2000, learning_rate=1, max_depth=110, min_samples_leaf=2, total= 2.7min\n",
      "[CV] max_features=sqrt, min_samples_split=15, n_estimators=3000, learning_rate=1, max_depth=None, min_samples_leaf=2 \n",
      "[CV]  max_features=sqrt, min_samples_split=15, n_estimators=3000, learning_rate=1, max_depth=10, min_samples_leaf=2, total= 3.4min\n",
      "[CV] max_features=auto, min_samples_split=5, n_estimators=2000, learning_rate=1, max_depth=80, min_samples_leaf=6 \n",
      "[CV]  max_features=sqrt, min_samples_split=15, n_estimators=3000, learning_rate=1, max_depth=10, min_samples_leaf=2, total= 3.4min\n",
      "[CV] max_features=auto, min_samples_split=5, n_estimators=2000, learning_rate=1, max_depth=80, min_samples_leaf=6 \n",
      "[CV]  max_features=sqrt, min_samples_split=15, n_estimators=3000, learning_rate=1, max_depth=None, min_samples_leaf=2, total= 3.7min\n",
      "[CV] max_features=auto, min_samples_split=5, n_estimators=2000, learning_rate=1, max_depth=80, min_samples_leaf=6 \n",
      "[CV]  max_features=sqrt, min_samples_split=15, n_estimators=4000, learning_rate=0.01, max_depth=None, min_samples_leaf=6, total=11.4min\n",
      "[CV] max_features=sqrt, min_samples_split=10, n_estimators=2000, learning_rate=1, max_depth=50, min_samples_leaf=6 \n",
      "[CV]  max_features=sqrt, min_samples_split=15, n_estimators=4000, learning_rate=0.01, max_depth=None, min_samples_leaf=6, total=11.4min\n",
      "[CV] max_features=sqrt, min_samples_split=10, n_estimators=2000, learning_rate=1, max_depth=50, min_samples_leaf=6 \n",
      "[CV]  max_features=sqrt, min_samples_split=15, n_estimators=4000, learning_rate=0.01, max_depth=None, min_samples_leaf=6, total=11.6min\n",
      "[CV] max_features=sqrt, min_samples_split=10, n_estimators=2000, learning_rate=1, max_depth=50, min_samples_leaf=6 \n",
      "[CV]  max_features=sqrt, min_samples_split=10, n_estimators=2000, learning_rate=1, max_depth=50, min_samples_leaf=6, total= 1.9min\n",
      "[CV] max_features=sqrt, min_samples_split=15, n_estimators=100, learning_rate=0.01, max_depth=100, min_samples_leaf=6 \n",
      "[CV]  max_features=sqrt, min_samples_split=10, n_estimators=2000, learning_rate=1, max_depth=50, min_samples_leaf=6, total= 2.1min\n",
      "[CV] max_features=sqrt, min_samples_split=15, n_estimators=100, learning_rate=0.01, max_depth=100, min_samples_leaf=6 \n",
      "[CV]  max_features=sqrt, min_samples_split=15, n_estimators=100, learning_rate=0.01, max_depth=100, min_samples_leaf=6, total=  15.6s\n",
      "[CV] max_features=sqrt, min_samples_split=15, n_estimators=100, learning_rate=0.01, max_depth=100, min_samples_leaf=6 \n",
      "[CV]  max_features=sqrt, min_samples_split=15, n_estimators=100, learning_rate=0.01, max_depth=100, min_samples_leaf=6, total=  15.4s\n",
      "[CV] max_features=sqrt, min_samples_split=2, n_estimators=1500, learning_rate=0.1, max_depth=90, min_samples_leaf=1 \n",
      "[CV]  max_features=sqrt, min_samples_split=15, n_estimators=100, learning_rate=0.01, max_depth=100, min_samples_leaf=6, total=  15.3s\n",
      "[CV] max_features=sqrt, min_samples_split=2, n_estimators=1500, learning_rate=0.1, max_depth=90, min_samples_leaf=1 \n",
      "[CV]  max_features=auto, min_samples_split=5, n_estimators=2000, learning_rate=1, max_depth=80, min_samples_leaf=6, total= 7.2min\n",
      "[CV] max_features=sqrt, min_samples_split=2, n_estimators=1500, learning_rate=0.1, max_depth=90, min_samples_leaf=1 \n",
      "[CV]  max_features=sqrt, min_samples_split=10, n_estimators=2000, learning_rate=1, max_depth=50, min_samples_leaf=6, total= 1.8min\n",
      "[CV] max_features=sqrt, min_samples_split=2, n_estimators=2500, learning_rate=0.5, max_depth=20, min_samples_leaf=6 \n",
      "[CV]  max_features=auto, min_samples_split=5, n_estimators=2000, learning_rate=1, max_depth=80, min_samples_leaf=6, total= 6.9min\n",
      "[CV] max_features=sqrt, min_samples_split=2, n_estimators=2500, learning_rate=0.5, max_depth=20, min_samples_leaf=6 \n",
      "[CV]  max_features=auto, min_samples_split=5, n_estimators=2000, learning_rate=1, max_depth=80, min_samples_leaf=6, total= 8.3min\n",
      "[CV] max_features=sqrt, min_samples_split=2, n_estimators=2500, learning_rate=0.5, max_depth=20, min_samples_leaf=6 \n",
      "[CV]  max_features=sqrt, min_samples_split=2, n_estimators=2500, learning_rate=0.5, max_depth=20, min_samples_leaf=6, total= 2.2min\n",
      "[CV] max_features=auto, min_samples_split=10, n_estimators=1500, learning_rate=0.5, max_depth=40, min_samples_leaf=2 \n",
      "[CV]  max_features=sqrt, min_samples_split=15, n_estimators=3000, learning_rate=1, max_depth=None, min_samples_leaf=2, total=12.3min\n",
      "[CV] max_features=auto, min_samples_split=10, n_estimators=1500, learning_rate=0.5, max_depth=40, min_samples_leaf=2 \n",
      "[CV]  max_features=sqrt, min_samples_split=15, n_estimators=3000, learning_rate=1, max_depth=None, min_samples_leaf=2, total=12.5min\n",
      "[CV] max_features=auto, min_samples_split=10, n_estimators=1500, learning_rate=0.5, max_depth=40, min_samples_leaf=2 \n",
      "[CV]  max_features=sqrt, min_samples_split=2, n_estimators=2500, learning_rate=0.5, max_depth=20, min_samples_leaf=6, total= 2.1min\n",
      "[CV] max_features=sqrt, min_samples_split=2, n_estimators=3500, learning_rate=0.25, max_depth=110, min_samples_leaf=1 \n",
      "[CV]  max_features=sqrt, min_samples_split=2, n_estimators=2500, learning_rate=0.5, max_depth=20, min_samples_leaf=6, total= 2.5min\n",
      "[CV] max_features=sqrt, min_samples_split=2, n_estimators=3500, learning_rate=0.25, max_depth=110, min_samples_leaf=1 \n",
      "[CV]  max_features=sqrt, min_samples_split=2, n_estimators=1500, learning_rate=0.1, max_depth=90, min_samples_leaf=1, total= 4.3min\n",
      "[CV] max_features=sqrt, min_samples_split=2, n_estimators=3500, learning_rate=0.25, max_depth=110, min_samples_leaf=1 \n",
      "[CV]  max_features=sqrt, min_samples_split=2, n_estimators=1500, learning_rate=0.1, max_depth=90, min_samples_leaf=1, total= 4.6min\n",
      "[CV] max_features=sqrt, min_samples_split=2, n_estimators=3500, learning_rate=0.05, max_depth=90, min_samples_leaf=2 \n",
      "[CV]  max_features=sqrt, min_samples_split=2, n_estimators=1500, learning_rate=0.1, max_depth=90, min_samples_leaf=1, total= 4.9min\n",
      "[CV] max_features=sqrt, min_samples_split=2, n_estimators=3500, learning_rate=0.05, max_depth=90, min_samples_leaf=2 \n",
      "[CV]  max_features=auto, min_samples_split=10, n_estimators=1500, learning_rate=0.5, max_depth=40, min_samples_leaf=2, total= 5.4min\n",
      "[CV] max_features=sqrt, min_samples_split=2, n_estimators=3500, learning_rate=0.05, max_depth=90, min_samples_leaf=2 \n"
     ]
    },
    {
     "name": "stdout",
     "output_type": "stream",
     "text": [
      "[CV]  max_features=auto, min_samples_split=10, n_estimators=1500, learning_rate=0.5, max_depth=40, min_samples_leaf=2, total= 6.0min\n",
      "[CV] max_features=sqrt, min_samples_split=2, n_estimators=2000, learning_rate=0.1, max_depth=60, min_samples_leaf=1 \n",
      "[CV]  max_features=auto, min_samples_split=10, n_estimators=1500, learning_rate=0.5, max_depth=40, min_samples_leaf=2, total= 7.2min\n",
      "[CV] max_features=sqrt, min_samples_split=2, n_estimators=2000, learning_rate=0.1, max_depth=60, min_samples_leaf=1 \n",
      "[CV]  max_features=sqrt, min_samples_split=2, n_estimators=3500, learning_rate=0.25, max_depth=110, min_samples_leaf=1, total= 8.7min\n",
      "[CV] max_features=sqrt, min_samples_split=2, n_estimators=2000, learning_rate=0.1, max_depth=60, min_samples_leaf=1 \n",
      "[CV]  max_features=sqrt, min_samples_split=2, n_estimators=3500, learning_rate=0.25, max_depth=110, min_samples_leaf=1, total= 8.1min\n",
      "[CV] max_features=auto, min_samples_split=15, n_estimators=100, learning_rate=0.25, max_depth=110, min_samples_leaf=4 \n",
      "[CV]  max_features=sqrt, min_samples_split=2, n_estimators=3500, learning_rate=0.05, max_depth=90, min_samples_leaf=2, total= 8.1min\n",
      "[CV] max_features=auto, min_samples_split=15, n_estimators=100, learning_rate=0.25, max_depth=110, min_samples_leaf=4 \n",
      "[CV]  max_features=sqrt, min_samples_split=2, n_estimators=3500, learning_rate=0.25, max_depth=110, min_samples_leaf=1, total= 9.4min\n",
      "[CV] max_features=auto, min_samples_split=15, n_estimators=100, learning_rate=0.25, max_depth=110, min_samples_leaf=4 \n",
      "[CV]  max_features=sqrt, min_samples_split=2, n_estimators=3500, learning_rate=0.05, max_depth=90, min_samples_leaf=2, total= 8.5min\n",
      "[CV] max_features=auto, min_samples_split=15, n_estimators=2000, learning_rate=0.1, max_depth=60, min_samples_leaf=2 \n",
      "[CV]  max_features=auto, min_samples_split=15, n_estimators=100, learning_rate=0.25, max_depth=110, min_samples_leaf=4, total= 1.0min\n",
      "[CV] max_features=auto, min_samples_split=15, n_estimators=2000, learning_rate=0.1, max_depth=60, min_samples_leaf=2 \n",
      "[CV]  max_features=auto, min_samples_split=15, n_estimators=100, learning_rate=0.25, max_depth=110, min_samples_leaf=4, total= 1.0min\n",
      "[CV] max_features=auto, min_samples_split=15, n_estimators=2000, learning_rate=0.1, max_depth=60, min_samples_leaf=2 \n",
      "[CV]  max_features=auto, min_samples_split=15, n_estimators=100, learning_rate=0.25, max_depth=110, min_samples_leaf=4, total= 1.0min\n",
      "[CV] max_features=auto, min_samples_split=5, n_estimators=3000, learning_rate=0.1, max_depth=50, min_samples_leaf=1 \n",
      "[CV]  max_features=sqrt, min_samples_split=2, n_estimators=2000, learning_rate=0.1, max_depth=60, min_samples_leaf=1, total= 5.8min\n",
      "[CV] max_features=auto, min_samples_split=5, n_estimators=3000, learning_rate=0.1, max_depth=50, min_samples_leaf=1 \n",
      "[CV]  max_features=sqrt, min_samples_split=2, n_estimators=3500, learning_rate=0.05, max_depth=90, min_samples_leaf=2, total= 7.7min\n",
      "[CV] max_features=auto, min_samples_split=5, n_estimators=3000, learning_rate=0.1, max_depth=50, min_samples_leaf=1 \n",
      "[CV]  max_features=sqrt, min_samples_split=2, n_estimators=2000, learning_rate=0.1, max_depth=60, min_samples_leaf=1, total= 6.2min\n",
      "[CV] max_features=sqrt, min_samples_split=10, n_estimators=1000, learning_rate=0.25, max_depth=90, min_samples_leaf=6 \n",
      "[CV]  max_features=sqrt, min_samples_split=10, n_estimators=1000, learning_rate=0.25, max_depth=90, min_samples_leaf=6, total= 1.4min\n",
      "[CV] max_features=sqrt, min_samples_split=10, n_estimators=1000, learning_rate=0.25, max_depth=90, min_samples_leaf=6 \n",
      "[CV]  max_features=sqrt, min_samples_split=2, n_estimators=2000, learning_rate=0.1, max_depth=60, min_samples_leaf=1, total= 5.4min\n",
      "[CV] max_features=sqrt, min_samples_split=10, n_estimators=1000, learning_rate=0.25, max_depth=90, min_samples_leaf=6 \n",
      "[CV]  max_features=sqrt, min_samples_split=10, n_estimators=1000, learning_rate=0.25, max_depth=90, min_samples_leaf=6, total= 1.5min\n",
      "[CV] max_features=sqrt, min_samples_split=15, n_estimators=1000, learning_rate=0.1, max_depth=40, min_samples_leaf=6 \n",
      "[CV]  max_features=sqrt, min_samples_split=10, n_estimators=1000, learning_rate=0.25, max_depth=90, min_samples_leaf=6, total= 1.5min\n",
      "[CV] max_features=sqrt, min_samples_split=15, n_estimators=1000, learning_rate=0.1, max_depth=40, min_samples_leaf=6 \n",
      "[CV]  max_features=sqrt, min_samples_split=15, n_estimators=1000, learning_rate=0.1, max_depth=40, min_samples_leaf=6, total= 2.1min\n",
      "[CV] max_features=sqrt, min_samples_split=15, n_estimators=1000, learning_rate=0.1, max_depth=40, min_samples_leaf=6 \n",
      "[CV]  max_features=sqrt, min_samples_split=15, n_estimators=1000, learning_rate=0.1, max_depth=40, min_samples_leaf=6, total= 2.1min\n",
      "[CV] max_features=auto, min_samples_split=5, n_estimators=100, learning_rate=0.1, max_depth=80, min_samples_leaf=1 \n",
      "[CV]  max_features=auto, min_samples_split=15, n_estimators=2000, learning_rate=0.1, max_depth=60, min_samples_leaf=2, total= 8.7min\n",
      "[CV] max_features=auto, min_samples_split=5, n_estimators=100, learning_rate=0.1, max_depth=80, min_samples_leaf=1 \n",
      "[CV]  max_features=auto, min_samples_split=15, n_estimators=2000, learning_rate=0.1, max_depth=60, min_samples_leaf=2, total= 9.7min\n",
      "[CV] max_features=auto, min_samples_split=5, n_estimators=100, learning_rate=0.1, max_depth=80, min_samples_leaf=1 \n",
      "[CV]  max_features=sqrt, min_samples_split=15, n_estimators=1000, learning_rate=0.1, max_depth=40, min_samples_leaf=6, total= 2.1min\n",
      "[CV] max_features=auto, min_samples_split=10, n_estimators=2500, learning_rate=1, max_depth=110, min_samples_leaf=2 \n",
      "[CV]  max_features=auto, min_samples_split=5, n_estimators=100, learning_rate=0.1, max_depth=80, min_samples_leaf=1, total= 2.5min\n",
      "[CV] max_features=auto, min_samples_split=10, n_estimators=2500, learning_rate=1, max_depth=110, min_samples_leaf=2 \n",
      "[CV]  max_features=auto, min_samples_split=15, n_estimators=2000, learning_rate=0.1, max_depth=60, min_samples_leaf=2, total=10.5min\n",
      "[CV] max_features=auto, min_samples_split=10, n_estimators=2500, learning_rate=1, max_depth=110, min_samples_leaf=2 \n",
      "[CV]  max_features=auto, min_samples_split=5, n_estimators=100, learning_rate=0.1, max_depth=80, min_samples_leaf=1, total= 2.5min\n",
      "[CV] max_features=sqrt, min_samples_split=5, n_estimators=2000, learning_rate=0.01, max_depth=20, min_samples_leaf=2 \n",
      "[CV]  max_features=auto, min_samples_split=5, n_estimators=100, learning_rate=0.1, max_depth=80, min_samples_leaf=1, total= 2.5min\n",
      "[CV] max_features=sqrt, min_samples_split=5, n_estimators=2000, learning_rate=0.01, max_depth=20, min_samples_leaf=2 \n",
      "[CV]  max_features=auto, min_samples_split=5, n_estimators=3000, learning_rate=0.1, max_depth=50, min_samples_leaf=1, total=14.4min\n",
      "[CV] max_features=sqrt, min_samples_split=5, n_estimators=2000, learning_rate=0.01, max_depth=20, min_samples_leaf=2 \n",
      "[CV]  max_features=auto, min_samples_split=5, n_estimators=3000, learning_rate=0.1, max_depth=50, min_samples_leaf=1, total=16.8min\n",
      "[CV] max_features=auto, min_samples_split=2, n_estimators=4000, learning_rate=0.01, max_depth=80, min_samples_leaf=1 \n",
      "[CV]  max_features=auto, min_samples_split=5, n_estimators=3000, learning_rate=0.1, max_depth=50, min_samples_leaf=1, total=19.3min\n",
      "[CV] max_features=auto, min_samples_split=2, n_estimators=4000, learning_rate=0.01, max_depth=80, min_samples_leaf=1 \n",
      "[CV]  max_features=auto, min_samples_split=10, n_estimators=2500, learning_rate=1, max_depth=110, min_samples_leaf=2, total=10.9min\n",
      "[CV] max_features=auto, min_samples_split=2, n_estimators=4000, learning_rate=0.01, max_depth=80, min_samples_leaf=1 \n",
      "[CV]  max_features=auto, min_samples_split=10, n_estimators=2500, learning_rate=1, max_depth=110, min_samples_leaf=2, total=10.2min\n",
      "[CV] max_features=sqrt, min_samples_split=5, n_estimators=3500, learning_rate=0.1, max_depth=None, min_samples_leaf=2 \n",
      "[CV]  max_features=sqrt, min_samples_split=5, n_estimators=2000, learning_rate=0.01, max_depth=20, min_samples_leaf=2, total=12.0min\n",
      "[CV] max_features=sqrt, min_samples_split=5, n_estimators=3500, learning_rate=0.1, max_depth=None, min_samples_leaf=2 \n",
      "[CV]  max_features=auto, min_samples_split=10, n_estimators=2500, learning_rate=1, max_depth=110, min_samples_leaf=2, total=13.9min\n",
      "[CV] max_features=sqrt, min_samples_split=5, n_estimators=3500, learning_rate=0.1, max_depth=None, min_samples_leaf=2 \n"
     ]
    },
    {
     "name": "stdout",
     "output_type": "stream",
     "text": [
      "[CV]  max_features=sqrt, min_samples_split=5, n_estimators=2000, learning_rate=0.01, max_depth=20, min_samples_leaf=2, total=12.1min\n",
      "[CV] max_features=auto, min_samples_split=2, n_estimators=1500, learning_rate=0.25, max_depth=90, min_samples_leaf=2 \n",
      "[CV]  max_features=sqrt, min_samples_split=5, n_estimators=3500, learning_rate=0.1, max_depth=None, min_samples_leaf=2, total= 6.3min\n",
      "[CV] max_features=auto, min_samples_split=2, n_estimators=1500, learning_rate=0.25, max_depth=90, min_samples_leaf=2 \n",
      "[CV]  max_features=sqrt, min_samples_split=5, n_estimators=2000, learning_rate=0.01, max_depth=20, min_samples_leaf=2, total=11.9min\n",
      "[CV] max_features=auto, min_samples_split=2, n_estimators=1500, learning_rate=0.25, max_depth=90, min_samples_leaf=2 \n",
      "[CV]  max_features=sqrt, min_samples_split=5, n_estimators=3500, learning_rate=0.1, max_depth=None, min_samples_leaf=2, total= 6.7min\n",
      "[CV] max_features=sqrt, min_samples_split=5, n_estimators=3000, learning_rate=0.05, max_depth=90, min_samples_leaf=4 \n",
      "[CV]  max_features=sqrt, min_samples_split=5, n_estimators=3500, learning_rate=0.1, max_depth=None, min_samples_leaf=2, total= 6.0min\n",
      "[CV] max_features=sqrt, min_samples_split=5, n_estimators=3000, learning_rate=0.05, max_depth=90, min_samples_leaf=4 \n",
      "[CV]  max_features=auto, min_samples_split=2, n_estimators=1500, learning_rate=0.25, max_depth=90, min_samples_leaf=2, total= 8.4min\n",
      "[CV] max_features=sqrt, min_samples_split=5, n_estimators=3000, learning_rate=0.05, max_depth=90, min_samples_leaf=4 \n",
      "[CV]  max_features=sqrt, min_samples_split=5, n_estimators=3000, learning_rate=0.05, max_depth=90, min_samples_leaf=4, total= 5.8min\n",
      "[CV] max_features=auto, min_samples_split=10, n_estimators=100, learning_rate=0.5, max_depth=10, min_samples_leaf=4 \n",
      "[CV]  max_features=auto, min_samples_split=2, n_estimators=1500, learning_rate=0.25, max_depth=90, min_samples_leaf=2, total= 7.4min\n",
      "[CV] max_features=auto, min_samples_split=10, n_estimators=100, learning_rate=0.5, max_depth=10, min_samples_leaf=4 \n",
      "[CV]  max_features=sqrt, min_samples_split=5, n_estimators=3000, learning_rate=0.05, max_depth=90, min_samples_leaf=4, total= 6.0min\n",
      "[CV] max_features=auto, min_samples_split=10, n_estimators=100, learning_rate=0.5, max_depth=10, min_samples_leaf=4 \n",
      "[CV]  max_features=auto, min_samples_split=10, n_estimators=100, learning_rate=0.5, max_depth=10, min_samples_leaf=4, total=  18.0s\n",
      "[CV] max_features=auto, min_samples_split=10, n_estimators=1000, learning_rate=1, max_depth=70, min_samples_leaf=2 \n",
      "[CV]  max_features=auto, min_samples_split=2, n_estimators=1500, learning_rate=0.25, max_depth=90, min_samples_leaf=2, total= 9.4min\n",
      "[CV] max_features=auto, min_samples_split=10, n_estimators=1000, learning_rate=1, max_depth=70, min_samples_leaf=2 \n",
      "[CV]  max_features=auto, min_samples_split=10, n_estimators=100, learning_rate=0.5, max_depth=10, min_samples_leaf=4, total=  17.9s\n",
      "[CV] max_features=auto, min_samples_split=10, n_estimators=1000, learning_rate=1, max_depth=70, min_samples_leaf=2 \n",
      "[CV]  max_features=auto, min_samples_split=10, n_estimators=100, learning_rate=0.5, max_depth=10, min_samples_leaf=4, total=  18.2s\n",
      "[CV] max_features=auto, min_samples_split=2, n_estimators=4000, learning_rate=0.5, max_depth=40, min_samples_leaf=6 \n",
      "[CV]  max_features=sqrt, min_samples_split=5, n_estimators=3000, learning_rate=0.05, max_depth=90, min_samples_leaf=4, total= 5.7min\n",
      "[CV] max_features=auto, min_samples_split=2, n_estimators=4000, learning_rate=0.5, max_depth=40, min_samples_leaf=6 \n",
      "[CV]  max_features=auto, min_samples_split=10, n_estimators=1000, learning_rate=1, max_depth=70, min_samples_leaf=2, total= 4.0min\n",
      "[CV] max_features=auto, min_samples_split=2, n_estimators=4000, learning_rate=0.5, max_depth=40, min_samples_leaf=6 \n",
      "[CV]  max_features=auto, min_samples_split=10, n_estimators=1000, learning_rate=1, max_depth=70, min_samples_leaf=2, total= 4.7min\n",
      "[CV] max_features=sqrt, min_samples_split=15, n_estimators=3000, learning_rate=1, max_depth=40, min_samples_leaf=6 \n",
      "[CV]  max_features=auto, min_samples_split=10, n_estimators=1000, learning_rate=1, max_depth=70, min_samples_leaf=2, total= 5.1min\n",
      "[CV] max_features=sqrt, min_samples_split=15, n_estimators=3000, learning_rate=1, max_depth=40, min_samples_leaf=6 \n",
      "[CV]  max_features=sqrt, min_samples_split=15, n_estimators=3000, learning_rate=1, max_depth=40, min_samples_leaf=6, total= 2.7min\n",
      "[CV] max_features=sqrt, min_samples_split=15, n_estimators=3000, learning_rate=1, max_depth=40, min_samples_leaf=6 \n",
      "[CV]  max_features=sqrt, min_samples_split=15, n_estimators=3000, learning_rate=1, max_depth=40, min_samples_leaf=6, total= 3.0min\n",
      "[CV] max_features=sqrt, min_samples_split=2, n_estimators=3000, learning_rate=0.1, max_depth=100, min_samples_leaf=1 \n",
      "[CV]  max_features=sqrt, min_samples_split=15, n_estimators=3000, learning_rate=1, max_depth=40, min_samples_leaf=6, total= 2.7min\n",
      "[CV] max_features=sqrt, min_samples_split=2, n_estimators=3000, learning_rate=0.1, max_depth=100, min_samples_leaf=1 \n",
      "[CV]  max_features=auto, min_samples_split=2, n_estimators=4000, learning_rate=0.5, max_depth=40, min_samples_leaf=6, total=14.3min\n",
      "[CV] max_features=sqrt, min_samples_split=2, n_estimators=3000, learning_rate=0.1, max_depth=100, min_samples_leaf=1 \n",
      "[CV]  max_features=auto, min_samples_split=2, n_estimators=4000, learning_rate=0.01, max_depth=80, min_samples_leaf=1, total=34.6min\n"
     ]
    },
    {
     "name": "stderr",
     "output_type": "stream",
     "text": [
      "[Parallel(n_jobs=-1)]: Done 146 tasks      | elapsed: 139.9min\n"
     ]
    },
    {
     "name": "stdout",
     "output_type": "stream",
     "text": [
      "[CV] max_features=auto, min_samples_split=10, n_estimators=3000, learning_rate=0.1, max_depth=70, min_samples_leaf=2 \n",
      "[CV]  max_features=sqrt, min_samples_split=2, n_estimators=3000, learning_rate=0.1, max_depth=100, min_samples_leaf=1, total= 8.4min\n",
      "[CV] max_features=auto, min_samples_split=10, n_estimators=3000, learning_rate=0.1, max_depth=70, min_samples_leaf=2 \n",
      "[CV]  max_features=auto, min_samples_split=2, n_estimators=4000, learning_rate=0.01, max_depth=80, min_samples_leaf=1, total=32.8min\n",
      "[CV] max_features=auto, min_samples_split=10, n_estimators=3000, learning_rate=0.1, max_depth=70, min_samples_leaf=2 \n",
      "[CV]  max_features=auto, min_samples_split=2, n_estimators=4000, learning_rate=0.5, max_depth=40, min_samples_leaf=6, total=15.0min\n",
      "[CV] max_features=auto, min_samples_split=5, n_estimators=1000, learning_rate=0.05, max_depth=50, min_samples_leaf=6 \n",
      "[CV]  max_features=auto, min_samples_split=2, n_estimators=4000, learning_rate=0.5, max_depth=40, min_samples_leaf=6, total=13.5min\n",
      "[CV] max_features=auto, min_samples_split=5, n_estimators=1000, learning_rate=0.05, max_depth=50, min_samples_leaf=6 \n",
      "[CV]  max_features=sqrt, min_samples_split=2, n_estimators=3000, learning_rate=0.1, max_depth=100, min_samples_leaf=1, total= 9.1min\n",
      "[CV] max_features=auto, min_samples_split=5, n_estimators=1000, learning_rate=0.05, max_depth=50, min_samples_leaf=6 \n",
      "[CV]  max_features=auto, min_samples_split=2, n_estimators=4000, learning_rate=0.01, max_depth=80, min_samples_leaf=1, total=36.9min\n",
      "[CV] max_features=auto, min_samples_split=10, n_estimators=3000, learning_rate=0.25, max_depth=80, min_samples_leaf=2 \n",
      "[CV]  max_features=sqrt, min_samples_split=2, n_estimators=3000, learning_rate=0.1, max_depth=100, min_samples_leaf=1, total= 7.8min\n",
      "[CV] max_features=auto, min_samples_split=10, n_estimators=3000, learning_rate=0.25, max_depth=80, min_samples_leaf=2 \n",
      "[CV]  max_features=auto, min_samples_split=5, n_estimators=1000, learning_rate=0.05, max_depth=50, min_samples_leaf=6, total= 8.1min\n",
      "[CV] max_features=auto, min_samples_split=10, n_estimators=3000, learning_rate=0.25, max_depth=80, min_samples_leaf=2 \n",
      "[CV]  max_features=auto, min_samples_split=5, n_estimators=1000, learning_rate=0.05, max_depth=50, min_samples_leaf=6, total= 8.3min\n",
      "[CV] max_features=sqrt, min_samples_split=15, n_estimators=2500, learning_rate=0.1, max_depth=20, min_samples_leaf=4 \n",
      "[CV]  max_features=auto, min_samples_split=5, n_estimators=1000, learning_rate=0.05, max_depth=50, min_samples_leaf=6, total= 8.0min\n",
      "[CV] max_features=sqrt, min_samples_split=15, n_estimators=2500, learning_rate=0.1, max_depth=20, min_samples_leaf=4 \n",
      "[CV]  max_features=sqrt, min_samples_split=15, n_estimators=2500, learning_rate=0.1, max_depth=20, min_samples_leaf=4, total= 3.4min\n",
      "[CV] max_features=sqrt, min_samples_split=15, n_estimators=2500, learning_rate=0.1, max_depth=20, min_samples_leaf=4 \n",
      "[CV]  max_features=auto, min_samples_split=10, n_estimators=3000, learning_rate=0.1, max_depth=70, min_samples_leaf=2, total=13.7min\n",
      "[CV] max_features=sqrt, min_samples_split=15, n_estimators=3500, learning_rate=0.05, max_depth=30, min_samples_leaf=2 \n",
      "[CV]  max_features=auto, min_samples_split=10, n_estimators=3000, learning_rate=0.1, max_depth=70, min_samples_leaf=2, total=15.3min\n",
      "[CV] max_features=sqrt, min_samples_split=15, n_estimators=3500, learning_rate=0.05, max_depth=30, min_samples_leaf=2 \n",
      "[CV]  max_features=sqrt, min_samples_split=15, n_estimators=2500, learning_rate=0.1, max_depth=20, min_samples_leaf=4, total= 3.6min\n",
      "[CV] max_features=sqrt, min_samples_split=15, n_estimators=3500, learning_rate=0.05, max_depth=30, min_samples_leaf=2 \n",
      "[CV]  max_features=sqrt, min_samples_split=15, n_estimators=2500, learning_rate=0.1, max_depth=20, min_samples_leaf=4, total= 3.2min\n",
      "[CV] max_features=sqrt, min_samples_split=15, n_estimators=1000, learning_rate=0.25, max_depth=30, min_samples_leaf=4 \n",
      "[CV]  max_features=auto, min_samples_split=10, n_estimators=3000, learning_rate=0.1, max_depth=70, min_samples_leaf=2, total=16.9min\n",
      "[CV] max_features=sqrt, min_samples_split=15, n_estimators=1000, learning_rate=0.25, max_depth=30, min_samples_leaf=4 \n",
      "[CV]  max_features=sqrt, min_samples_split=15, n_estimators=1000, learning_rate=0.25, max_depth=30, min_samples_leaf=4, total= 1.5min\n",
      "[CV] max_features=sqrt, min_samples_split=15, n_estimators=1000, learning_rate=0.25, max_depth=30, min_samples_leaf=4 \n",
      "[CV]  max_features=auto, min_samples_split=10, n_estimators=3000, learning_rate=0.25, max_depth=80, min_samples_leaf=2, total=14.5min\n",
      "[CV] max_features=auto, min_samples_split=5, n_estimators=2000, learning_rate=0.5, max_depth=110, min_samples_leaf=2 \n",
      "[CV]  max_features=sqrt, min_samples_split=15, n_estimators=1000, learning_rate=0.25, max_depth=30, min_samples_leaf=4, total= 1.6min\n",
      "[CV] max_features=auto, min_samples_split=5, n_estimators=2000, learning_rate=0.5, max_depth=110, min_samples_leaf=2 \n",
      "[CV]  max_features=sqrt, min_samples_split=15, n_estimators=1000, learning_rate=0.25, max_depth=30, min_samples_leaf=4, total= 1.5min\n",
      "[CV] max_features=auto, min_samples_split=5, n_estimators=2000, learning_rate=0.5, max_depth=110, min_samples_leaf=2 \n",
      "[CV]  max_features=sqrt, min_samples_split=15, n_estimators=3500, learning_rate=0.05, max_depth=30, min_samples_leaf=2, total= 6.0min\n",
      "[CV] max_features=sqrt, min_samples_split=2, n_estimators=1000, learning_rate=1, max_depth=10, min_samples_leaf=2 \n",
      "[CV]  max_features=sqrt, min_samples_split=15, n_estimators=3500, learning_rate=0.05, max_depth=30, min_samples_leaf=2, total= 6.2min\n",
      "[CV] max_features=sqrt, min_samples_split=2, n_estimators=1000, learning_rate=1, max_depth=10, min_samples_leaf=2 \n",
      "[CV]  max_features=sqrt, min_samples_split=15, n_estimators=3500, learning_rate=0.05, max_depth=30, min_samples_leaf=2, total= 6.5min\n",
      "[CV] max_features=sqrt, min_samples_split=2, n_estimators=1000, learning_rate=1, max_depth=10, min_samples_leaf=2 \n",
      "[CV]  max_features=auto, min_samples_split=10, n_estimators=3000, learning_rate=0.25, max_depth=80, min_samples_leaf=2, total=12.7min\n",
      "[CV] max_features=sqrt, min_samples_split=5, n_estimators=1000, learning_rate=0.5, max_depth=50, min_samples_leaf=4 \n",
      "[CV]  max_features=sqrt, min_samples_split=2, n_estimators=1000, learning_rate=1, max_depth=10, min_samples_leaf=2, total=  39.8s\n",
      "[CV] max_features=sqrt, min_samples_split=5, n_estimators=1000, learning_rate=0.5, max_depth=50, min_samples_leaf=4 \n",
      "[CV]  max_features=auto, min_samples_split=10, n_estimators=3000, learning_rate=0.25, max_depth=80, min_samples_leaf=2, total=15.9min\n",
      "[CV] max_features=sqrt, min_samples_split=5, n_estimators=1000, learning_rate=0.5, max_depth=50, min_samples_leaf=4 \n",
      "[CV]  max_features=sqrt, min_samples_split=2, n_estimators=1000, learning_rate=1, max_depth=10, min_samples_leaf=2, total= 1.3min\n",
      "[CV] max_features=sqrt, min_samples_split=2, n_estimators=2000, learning_rate=1, max_depth=40, min_samples_leaf=6 \n",
      "[CV]  max_features=sqrt, min_samples_split=2, n_estimators=1000, learning_rate=1, max_depth=10, min_samples_leaf=2, total= 1.4min\n",
      "[CV] max_features=sqrt, min_samples_split=2, n_estimators=2000, learning_rate=1, max_depth=40, min_samples_leaf=6 \n",
      "[CV]  max_features=sqrt, min_samples_split=5, n_estimators=1000, learning_rate=0.5, max_depth=50, min_samples_leaf=4, total= 1.6min\n",
      "[CV] max_features=sqrt, min_samples_split=2, n_estimators=2000, learning_rate=1, max_depth=40, min_samples_leaf=6 \n",
      "[CV]  max_features=sqrt, min_samples_split=5, n_estimators=1000, learning_rate=0.5, max_depth=50, min_samples_leaf=4, total= 1.5min\n",
      "[CV] max_features=auto, min_samples_split=5, n_estimators=3500, learning_rate=0.1, max_depth=100, min_samples_leaf=1 \n",
      "[CV]  max_features=sqrt, min_samples_split=5, n_estimators=1000, learning_rate=0.5, max_depth=50, min_samples_leaf=4, total= 1.7min\n",
      "[CV] max_features=auto, min_samples_split=5, n_estimators=3500, learning_rate=0.1, max_depth=100, min_samples_leaf=1 \n",
      "[CV]  max_features=sqrt, min_samples_split=2, n_estimators=2000, learning_rate=1, max_depth=40, min_samples_leaf=6, total= 2.2min\n",
      "[CV] max_features=auto, min_samples_split=5, n_estimators=3500, learning_rate=0.1, max_depth=100, min_samples_leaf=1 \n",
      "[CV]  max_features=sqrt, min_samples_split=2, n_estimators=2000, learning_rate=1, max_depth=40, min_samples_leaf=6, total= 2.4min\n"
     ]
    },
    {
     "name": "stdout",
     "output_type": "stream",
     "text": [
      "[CV] max_features=sqrt, min_samples_split=5, n_estimators=3000, learning_rate=0.25, max_depth=60, min_samples_leaf=4 \n",
      "[CV]  max_features=sqrt, min_samples_split=2, n_estimators=2000, learning_rate=1, max_depth=40, min_samples_leaf=6, total= 2.0min\n",
      "[CV] max_features=sqrt, min_samples_split=5, n_estimators=3000, learning_rate=0.25, max_depth=60, min_samples_leaf=4 \n",
      "[CV]  max_features=sqrt, min_samples_split=5, n_estimators=3000, learning_rate=0.25, max_depth=60, min_samples_leaf=4, total= 3.8min\n",
      "[CV] max_features=sqrt, min_samples_split=5, n_estimators=3000, learning_rate=0.25, max_depth=60, min_samples_leaf=4 \n",
      "[CV]  max_features=auto, min_samples_split=5, n_estimators=2000, learning_rate=0.5, max_depth=110, min_samples_leaf=2, total= 9.5min\n",
      "[CV] max_features=sqrt, min_samples_split=15, n_estimators=100, learning_rate=1, max_depth=40, min_samples_leaf=6 \n",
      "[CV]  max_features=sqrt, min_samples_split=15, n_estimators=100, learning_rate=1, max_depth=40, min_samples_leaf=6, total=  13.9s\n",
      "[CV] max_features=sqrt, min_samples_split=15, n_estimators=100, learning_rate=1, max_depth=40, min_samples_leaf=6 \n",
      "[CV]  max_features=sqrt, min_samples_split=15, n_estimators=100, learning_rate=1, max_depth=40, min_samples_leaf=6, total=  13.7s\n",
      "[CV] max_features=sqrt, min_samples_split=15, n_estimators=100, learning_rate=1, max_depth=40, min_samples_leaf=6 \n",
      "[CV]  max_features=auto, min_samples_split=5, n_estimators=2000, learning_rate=0.5, max_depth=110, min_samples_leaf=2, total=10.8min\n",
      "[CV] max_features=auto, min_samples_split=10, n_estimators=1000, learning_rate=0.25, max_depth=100, min_samples_leaf=4 \n",
      "[CV]  max_features=sqrt, min_samples_split=5, n_estimators=3000, learning_rate=0.25, max_depth=60, min_samples_leaf=4, total= 4.2min\n",
      "[CV] max_features=auto, min_samples_split=10, n_estimators=1000, learning_rate=0.25, max_depth=100, min_samples_leaf=4 \n",
      "[CV]  max_features=sqrt, min_samples_split=15, n_estimators=100, learning_rate=1, max_depth=40, min_samples_leaf=6, total=  13.9s\n",
      "[CV] max_features=auto, min_samples_split=10, n_estimators=1000, learning_rate=0.25, max_depth=100, min_samples_leaf=4 \n",
      "[CV]  max_features=auto, min_samples_split=5, n_estimators=2000, learning_rate=0.5, max_depth=110, min_samples_leaf=2, total=12.2min\n",
      "[CV] max_features=auto, min_samples_split=5, n_estimators=3500, learning_rate=0.01, max_depth=80, min_samples_leaf=6 \n",
      "[CV]  max_features=sqrt, min_samples_split=5, n_estimators=3000, learning_rate=0.25, max_depth=60, min_samples_leaf=4, total= 3.7min\n",
      "[CV] max_features=auto, min_samples_split=5, n_estimators=3500, learning_rate=0.01, max_depth=80, min_samples_leaf=6 \n",
      "[CV]  max_features=auto, min_samples_split=10, n_estimators=1000, learning_rate=0.25, max_depth=100, min_samples_leaf=4, total= 4.6min\n",
      "[CV] max_features=auto, min_samples_split=5, n_estimators=3500, learning_rate=0.01, max_depth=80, min_samples_leaf=6 \n",
      "[CV]  max_features=auto, min_samples_split=10, n_estimators=1000, learning_rate=0.25, max_depth=100, min_samples_leaf=4, total= 5.1min\n",
      "[CV] max_features=auto, min_samples_split=10, n_estimators=2500, learning_rate=0.1, max_depth=10, min_samples_leaf=2 \n",
      "[CV]  max_features=auto, min_samples_split=10, n_estimators=1000, learning_rate=0.25, max_depth=100, min_samples_leaf=4, total= 5.4min\n",
      "[CV] max_features=auto, min_samples_split=10, n_estimators=2500, learning_rate=0.1, max_depth=10, min_samples_leaf=2 \n",
      "[CV]  max_features=auto, min_samples_split=10, n_estimators=2500, learning_rate=0.1, max_depth=10, min_samples_leaf=2, total= 5.6min\n",
      "[CV] max_features=auto, min_samples_split=10, n_estimators=2500, learning_rate=0.1, max_depth=10, min_samples_leaf=2 \n",
      "[CV]  max_features=auto, min_samples_split=10, n_estimators=2500, learning_rate=0.1, max_depth=10, min_samples_leaf=2, total= 5.6min\n",
      "[CV] max_features=sqrt, min_samples_split=15, n_estimators=1000, learning_rate=0.1, max_depth=None, min_samples_leaf=1 \n",
      "[CV]  max_features=sqrt, min_samples_split=15, n_estimators=1000, learning_rate=0.1, max_depth=None, min_samples_leaf=1, total= 2.5min\n",
      "[CV] max_features=sqrt, min_samples_split=15, n_estimators=1000, learning_rate=0.1, max_depth=None, min_samples_leaf=1 \n",
      "[CV]  max_features=auto, min_samples_split=5, n_estimators=3500, learning_rate=0.1, max_depth=100, min_samples_leaf=1, total=18.8min\n",
      "[CV] max_features=sqrt, min_samples_split=15, n_estimators=1000, learning_rate=0.1, max_depth=None, min_samples_leaf=1 \n",
      "[CV]  max_features=auto, min_samples_split=5, n_estimators=3500, learning_rate=0.1, max_depth=100, min_samples_leaf=1, total=21.6min\n",
      "[CV] max_features=sqrt, min_samples_split=15, n_estimators=2000, learning_rate=0.25, max_depth=10, min_samples_leaf=2 \n",
      "[CV]  max_features=auto, min_samples_split=10, n_estimators=2500, learning_rate=0.1, max_depth=10, min_samples_leaf=2, total= 5.4min\n",
      "[CV] max_features=sqrt, min_samples_split=15, n_estimators=2000, learning_rate=0.25, max_depth=10, min_samples_leaf=2 \n",
      "[CV]  max_features=sqrt, min_samples_split=15, n_estimators=1000, learning_rate=0.1, max_depth=None, min_samples_leaf=1, total= 2.5min\n",
      "[CV] max_features=sqrt, min_samples_split=15, n_estimators=2000, learning_rate=0.25, max_depth=10, min_samples_leaf=2 \n",
      "[CV]  max_features=sqrt, min_samples_split=15, n_estimators=1000, learning_rate=0.1, max_depth=None, min_samples_leaf=1, total= 2.7min\n",
      "[CV] max_features=auto, min_samples_split=15, n_estimators=2000, learning_rate=0.25, max_depth=100, min_samples_leaf=6 \n",
      "[CV]  max_features=sqrt, min_samples_split=15, n_estimators=2000, learning_rate=0.25, max_depth=10, min_samples_leaf=2, total= 1.5min\n",
      "[CV] max_features=auto, min_samples_split=15, n_estimators=2000, learning_rate=0.25, max_depth=100, min_samples_leaf=6 \n",
      "[CV]  max_features=sqrt, min_samples_split=15, n_estimators=2000, learning_rate=0.25, max_depth=10, min_samples_leaf=2, total= 1.5min\n",
      "[CV] max_features=auto, min_samples_split=15, n_estimators=2000, learning_rate=0.25, max_depth=100, min_samples_leaf=6 \n",
      "[CV]  max_features=sqrt, min_samples_split=15, n_estimators=2000, learning_rate=0.25, max_depth=10, min_samples_leaf=2, total= 1.6min\n",
      "[CV] max_features=auto, min_samples_split=5, n_estimators=100, learning_rate=0.25, max_depth=50, min_samples_leaf=2 \n",
      "[CV]  max_features=auto, min_samples_split=5, n_estimators=3500, learning_rate=0.1, max_depth=100, min_samples_leaf=1, total=24.5min\n",
      "[CV] max_features=auto, min_samples_split=5, n_estimators=100, learning_rate=0.25, max_depth=50, min_samples_leaf=2 \n",
      "[CV]  max_features=auto, min_samples_split=5, n_estimators=100, learning_rate=0.25, max_depth=50, min_samples_leaf=2, total= 1.4min\n",
      "[CV] max_features=auto, min_samples_split=5, n_estimators=100, learning_rate=0.25, max_depth=50, min_samples_leaf=2 \n",
      "[CV]  max_features=auto, min_samples_split=5, n_estimators=100, learning_rate=0.25, max_depth=50, min_samples_leaf=2, total= 1.4min\n",
      "[CV] max_features=sqrt, min_samples_split=15, n_estimators=2500, learning_rate=0.5, max_depth=90, min_samples_leaf=1 \n",
      "[CV]  max_features=auto, min_samples_split=5, n_estimators=100, learning_rate=0.25, max_depth=50, min_samples_leaf=2, total= 1.3min\n",
      "[CV] max_features=sqrt, min_samples_split=15, n_estimators=2500, learning_rate=0.5, max_depth=90, min_samples_leaf=1 \n",
      "[CV]  max_features=sqrt, min_samples_split=15, n_estimators=2500, learning_rate=0.5, max_depth=90, min_samples_leaf=1, total= 3.8min\n",
      "[CV] max_features=sqrt, min_samples_split=15, n_estimators=2500, learning_rate=0.5, max_depth=90, min_samples_leaf=1 \n",
      "[CV]  max_features=auto, min_samples_split=15, n_estimators=2000, learning_rate=0.25, max_depth=100, min_samples_leaf=6, total= 8.4min\n",
      "[CV] max_features=auto, min_samples_split=2, n_estimators=100, learning_rate=0.01, max_depth=50, min_samples_leaf=4 \n",
      "[CV]  max_features=sqrt, min_samples_split=15, n_estimators=2500, learning_rate=0.5, max_depth=90, min_samples_leaf=1, total= 4.2min\n",
      "[CV] max_features=auto, min_samples_split=2, n_estimators=100, learning_rate=0.01, max_depth=50, min_samples_leaf=4 \n",
      "[CV]  max_features=auto, min_samples_split=15, n_estimators=2000, learning_rate=0.25, max_depth=100, min_samples_leaf=6, total= 7.8min\n",
      "[CV] max_features=auto, min_samples_split=2, n_estimators=100, learning_rate=0.01, max_depth=50, min_samples_leaf=4 \n",
      "[CV]  max_features=auto, min_samples_split=2, n_estimators=100, learning_rate=0.01, max_depth=50, min_samples_leaf=4, total= 1.7min\n"
     ]
    },
    {
     "name": "stdout",
     "output_type": "stream",
     "text": [
      "[CV] max_features=auto, min_samples_split=15, n_estimators=100, learning_rate=0.01, max_depth=40, min_samples_leaf=4 \n",
      "[CV]  max_features=auto, min_samples_split=15, n_estimators=2000, learning_rate=0.25, max_depth=100, min_samples_leaf=6, total= 9.1min\n",
      "[CV] max_features=auto, min_samples_split=15, n_estimators=100, learning_rate=0.01, max_depth=40, min_samples_leaf=4 \n",
      "[CV]  max_features=auto, min_samples_split=2, n_estimators=100, learning_rate=0.01, max_depth=50, min_samples_leaf=4, total= 1.6min\n",
      "[CV] max_features=auto, min_samples_split=15, n_estimators=100, learning_rate=0.01, max_depth=40, min_samples_leaf=4 \n",
      "[CV]  max_features=auto, min_samples_split=2, n_estimators=100, learning_rate=0.01, max_depth=50, min_samples_leaf=4, total= 1.6min\n",
      "[CV] max_features=auto, min_samples_split=2, n_estimators=3500, learning_rate=0.25, max_depth=80, min_samples_leaf=4 \n",
      "[CV]  max_features=auto, min_samples_split=15, n_estimators=100, learning_rate=0.01, max_depth=40, min_samples_leaf=4, total= 1.1min\n",
      "[CV] max_features=auto, min_samples_split=2, n_estimators=3500, learning_rate=0.25, max_depth=80, min_samples_leaf=4 \n",
      "[CV]  max_features=auto, min_samples_split=15, n_estimators=100, learning_rate=0.01, max_depth=40, min_samples_leaf=4, total= 1.1min\n",
      "[CV] max_features=auto, min_samples_split=2, n_estimators=3500, learning_rate=0.25, max_depth=80, min_samples_leaf=4 \n",
      "[CV]  max_features=auto, min_samples_split=15, n_estimators=100, learning_rate=0.01, max_depth=40, min_samples_leaf=4, total= 1.1min\n",
      "[CV] max_features=auto, min_samples_split=5, n_estimators=100, learning_rate=1, max_depth=110, min_samples_leaf=1 \n",
      "[CV]  max_features=sqrt, min_samples_split=15, n_estimators=2500, learning_rate=0.5, max_depth=90, min_samples_leaf=1, total= 3.6min\n",
      "[CV] max_features=auto, min_samples_split=5, n_estimators=100, learning_rate=1, max_depth=110, min_samples_leaf=1 \n",
      "[CV]  max_features=auto, min_samples_split=5, n_estimators=100, learning_rate=1, max_depth=110, min_samples_leaf=1, total=  44.9s\n",
      "[CV] max_features=auto, min_samples_split=5, n_estimators=100, learning_rate=1, max_depth=110, min_samples_leaf=1 \n",
      "[CV]  max_features=auto, min_samples_split=5, n_estimators=100, learning_rate=1, max_depth=110, min_samples_leaf=1, total=  48.4s\n",
      "[CV] max_features=sqrt, min_samples_split=5, n_estimators=2000, learning_rate=1, max_depth=80, min_samples_leaf=6 \n",
      "[CV]  max_features=auto, min_samples_split=5, n_estimators=100, learning_rate=1, max_depth=110, min_samples_leaf=1, total=  42.2s\n",
      "[CV] max_features=sqrt, min_samples_split=5, n_estimators=2000, learning_rate=1, max_depth=80, min_samples_leaf=6 \n",
      "[CV]  max_features=sqrt, min_samples_split=5, n_estimators=2000, learning_rate=1, max_depth=80, min_samples_leaf=6, total= 2.0min\n",
      "[CV] max_features=sqrt, min_samples_split=5, n_estimators=2000, learning_rate=1, max_depth=80, min_samples_leaf=6 \n",
      "[CV]  max_features=sqrt, min_samples_split=5, n_estimators=2000, learning_rate=1, max_depth=80, min_samples_leaf=6, total= 2.2min\n",
      "[CV] max_features=sqrt, min_samples_split=2, n_estimators=4000, learning_rate=1, max_depth=110, min_samples_leaf=1 \n",
      "[CV]  max_features=sqrt, min_samples_split=5, n_estimators=2000, learning_rate=1, max_depth=80, min_samples_leaf=6, total= 1.9min\n",
      "[CV] max_features=sqrt, min_samples_split=2, n_estimators=4000, learning_rate=1, max_depth=110, min_samples_leaf=1 \n",
      "[CV]  max_features=auto, min_samples_split=5, n_estimators=3500, learning_rate=0.01, max_depth=80, min_samples_leaf=6, total=35.7min\n",
      "[CV] max_features=sqrt, min_samples_split=2, n_estimators=4000, learning_rate=1, max_depth=110, min_samples_leaf=1 \n",
      "[CV]  max_features=auto, min_samples_split=5, n_estimators=3500, learning_rate=0.01, max_depth=80, min_samples_leaf=6, total=35.5min\n",
      "[CV] max_features=auto, min_samples_split=15, n_estimators=3500, learning_rate=0.01, max_depth=10, min_samples_leaf=2 \n",
      "[CV]  max_features=auto, min_samples_split=5, n_estimators=3500, learning_rate=0.01, max_depth=80, min_samples_leaf=6, total=35.1min\n",
      "[CV] max_features=auto, min_samples_split=15, n_estimators=3500, learning_rate=0.01, max_depth=10, min_samples_leaf=2 \n",
      "[CV]  max_features=sqrt, min_samples_split=2, n_estimators=4000, learning_rate=1, max_depth=110, min_samples_leaf=1, total= 9.5min\n",
      "[CV] max_features=auto, min_samples_split=15, n_estimators=3500, learning_rate=0.01, max_depth=10, min_samples_leaf=2 \n",
      "[CV]  max_features=auto, min_samples_split=2, n_estimators=3500, learning_rate=0.25, max_depth=80, min_samples_leaf=4, total=14.3min\n",
      "[CV] max_features=sqrt, min_samples_split=5, n_estimators=1500, learning_rate=0.5, max_depth=90, min_samples_leaf=1 \n",
      "[CV]  max_features=sqrt, min_samples_split=2, n_estimators=4000, learning_rate=1, max_depth=110, min_samples_leaf=1, total=10.5min\n",
      "[CV] max_features=sqrt, min_samples_split=5, n_estimators=1500, learning_rate=0.5, max_depth=90, min_samples_leaf=1 \n",
      "[CV]  max_features=auto, min_samples_split=2, n_estimators=3500, learning_rate=0.25, max_depth=80, min_samples_leaf=4, total=16.7min\n",
      "[CV] max_features=sqrt, min_samples_split=5, n_estimators=1500, learning_rate=0.5, max_depth=90, min_samples_leaf=1 \n",
      "[CV]  max_features=auto, min_samples_split=2, n_estimators=3500, learning_rate=0.25, max_depth=80, min_samples_leaf=4, total=17.5min\n",
      "[CV] max_features=auto, min_samples_split=10, n_estimators=100, learning_rate=0.25, max_depth=30, min_samples_leaf=4 \n",
      "[CV]  max_features=sqrt, min_samples_split=5, n_estimators=1500, learning_rate=0.5, max_depth=90, min_samples_leaf=1, total= 3.4min\n",
      "[CV] max_features=auto, min_samples_split=10, n_estimators=100, learning_rate=0.25, max_depth=30, min_samples_leaf=4 \n",
      "[CV]  max_features=auto, min_samples_split=15, n_estimators=3500, learning_rate=0.01, max_depth=10, min_samples_leaf=2, total= 7.7min\n",
      "[CV] max_features=auto, min_samples_split=10, n_estimators=100, learning_rate=0.25, max_depth=30, min_samples_leaf=4 \n",
      "[CV]  max_features=auto, min_samples_split=10, n_estimators=100, learning_rate=0.25, max_depth=30, min_samples_leaf=4, total= 1.2min\n",
      "[CV] max_features=sqrt, min_samples_split=2, n_estimators=4000, learning_rate=1, max_depth=20, min_samples_leaf=1 \n",
      "[CV]  max_features=sqrt, min_samples_split=2, n_estimators=4000, learning_rate=1, max_depth=110, min_samples_leaf=1, total= 8.9min\n",
      "[CV] max_features=sqrt, min_samples_split=2, n_estimators=4000, learning_rate=1, max_depth=20, min_samples_leaf=1 \n",
      "[CV]  max_features=auto, min_samples_split=10, n_estimators=100, learning_rate=0.25, max_depth=30, min_samples_leaf=4, total= 1.2min\n",
      "[CV] max_features=sqrt, min_samples_split=2, n_estimators=4000, learning_rate=1, max_depth=20, min_samples_leaf=1 \n",
      "[CV]  max_features=sqrt, min_samples_split=5, n_estimators=1500, learning_rate=0.5, max_depth=90, min_samples_leaf=1, total= 3.6min\n",
      "[CV] max_features=sqrt, min_samples_split=2, n_estimators=1500, learning_rate=0.05, max_depth=70, min_samples_leaf=2 \n",
      "[CV]  max_features=auto, min_samples_split=10, n_estimators=100, learning_rate=0.25, max_depth=30, min_samples_leaf=4, total= 1.2min\n",
      "[CV] max_features=sqrt, min_samples_split=2, n_estimators=1500, learning_rate=0.05, max_depth=70, min_samples_leaf=2 \n",
      "[CV]  max_features=sqrt, min_samples_split=5, n_estimators=1500, learning_rate=0.5, max_depth=90, min_samples_leaf=1, total= 3.2min\n",
      "[CV] max_features=sqrt, min_samples_split=2, n_estimators=1500, learning_rate=0.05, max_depth=70, min_samples_leaf=2 \n",
      "[CV]  max_features=auto, min_samples_split=15, n_estimators=3500, learning_rate=0.01, max_depth=10, min_samples_leaf=2, total= 7.5min\n",
      "[CV] max_features=auto, min_samples_split=15, n_estimators=1500, learning_rate=0.05, max_depth=20, min_samples_leaf=6 \n",
      "[CV]  max_features=auto, min_samples_split=15, n_estimators=3500, learning_rate=0.01, max_depth=10, min_samples_leaf=2, total= 7.8min\n",
      "[CV] max_features=auto, min_samples_split=15, n_estimators=1500, learning_rate=0.05, max_depth=20, min_samples_leaf=6 \n",
      "[CV]  max_features=sqrt, min_samples_split=2, n_estimators=4000, learning_rate=1, max_depth=20, min_samples_leaf=1, total= 3.7min\n",
      "[CV] max_features=auto, min_samples_split=15, n_estimators=1500, learning_rate=0.05, max_depth=20, min_samples_leaf=6 \n",
      "[CV]  max_features=sqrt, min_samples_split=2, n_estimators=4000, learning_rate=1, max_depth=20, min_samples_leaf=1, total= 3.7min\n"
     ]
    },
    {
     "name": "stdout",
     "output_type": "stream",
     "text": [
      "[CV] max_features=auto, min_samples_split=2, n_estimators=2500, learning_rate=0.5, max_depth=None, min_samples_leaf=1 \n",
      "[CV]  max_features=sqrt, min_samples_split=2, n_estimators=1500, learning_rate=0.05, max_depth=70, min_samples_leaf=2, total= 5.2min\n",
      "[CV] max_features=auto, min_samples_split=2, n_estimators=2500, learning_rate=0.5, max_depth=None, min_samples_leaf=1 \n",
      "[CV]  max_features=sqrt, min_samples_split=2, n_estimators=4000, learning_rate=1, max_depth=20, min_samples_leaf=1, total= 5.5min\n",
      "[CV] max_features=auto, min_samples_split=2, n_estimators=2500, learning_rate=0.5, max_depth=None, min_samples_leaf=1 \n",
      "[CV]  max_features=sqrt, min_samples_split=2, n_estimators=1500, learning_rate=0.05, max_depth=70, min_samples_leaf=2, total= 5.1min\n",
      "[CV] max_features=sqrt, min_samples_split=5, n_estimators=1000, learning_rate=0.5, max_depth=20, min_samples_leaf=6 \n",
      "[CV]  max_features=sqrt, min_samples_split=2, n_estimators=1500, learning_rate=0.05, max_depth=70, min_samples_leaf=2, total= 5.4min\n",
      "[CV] max_features=sqrt, min_samples_split=5, n_estimators=1000, learning_rate=0.5, max_depth=20, min_samples_leaf=6 \n",
      "[CV]  max_features=sqrt, min_samples_split=5, n_estimators=1000, learning_rate=0.5, max_depth=20, min_samples_leaf=6, total= 1.2min\n",
      "[CV] max_features=sqrt, min_samples_split=5, n_estimators=1000, learning_rate=0.5, max_depth=20, min_samples_leaf=6 \n",
      "[CV]  max_features=sqrt, min_samples_split=5, n_estimators=1000, learning_rate=0.5, max_depth=20, min_samples_leaf=6, total= 1.3min\n",
      "[CV] max_features=auto, min_samples_split=5, n_estimators=100, learning_rate=0.25, max_depth=10, min_samples_leaf=2 \n",
      "[CV]  max_features=auto, min_samples_split=5, n_estimators=100, learning_rate=0.25, max_depth=10, min_samples_leaf=2, total=  20.8s\n",
      "[CV] max_features=auto, min_samples_split=5, n_estimators=100, learning_rate=0.25, max_depth=10, min_samples_leaf=2 \n",
      "[CV]  max_features=auto, min_samples_split=5, n_estimators=100, learning_rate=0.25, max_depth=10, min_samples_leaf=2, total=  21.0s\n",
      "[CV] max_features=auto, min_samples_split=5, n_estimators=100, learning_rate=0.25, max_depth=10, min_samples_leaf=2 \n",
      "[CV]  max_features=sqrt, min_samples_split=5, n_estimators=1000, learning_rate=0.5, max_depth=20, min_samples_leaf=6, total= 1.1min\n",
      "[CV] max_features=sqrt, min_samples_split=5, n_estimators=100, learning_rate=0.25, max_depth=90, min_samples_leaf=4 \n",
      "[CV]  max_features=auto, min_samples_split=5, n_estimators=100, learning_rate=0.25, max_depth=10, min_samples_leaf=2, total=  21.1s\n",
      "[CV] max_features=sqrt, min_samples_split=5, n_estimators=100, learning_rate=0.25, max_depth=90, min_samples_leaf=4 \n",
      "[CV]  max_features=sqrt, min_samples_split=5, n_estimators=100, learning_rate=0.25, max_depth=90, min_samples_leaf=4, total=  28.1s\n",
      "[CV] max_features=sqrt, min_samples_split=5, n_estimators=100, learning_rate=0.25, max_depth=90, min_samples_leaf=4 \n",
      "[CV]  max_features=sqrt, min_samples_split=5, n_estimators=100, learning_rate=0.25, max_depth=90, min_samples_leaf=4, total=  28.7s\n",
      "[CV] max_features=auto, min_samples_split=5, n_estimators=2000, learning_rate=0.05, max_depth=40, min_samples_leaf=1 \n",
      "[CV]  max_features=auto, min_samples_split=15, n_estimators=1500, learning_rate=0.05, max_depth=20, min_samples_leaf=6, total= 8.1min\n",
      "[CV] max_features=auto, min_samples_split=5, n_estimators=2000, learning_rate=0.05, max_depth=40, min_samples_leaf=1 \n",
      "[CV]  max_features=sqrt, min_samples_split=5, n_estimators=100, learning_rate=0.25, max_depth=90, min_samples_leaf=4, total=  28.5s\n",
      "[CV] max_features=auto, min_samples_split=5, n_estimators=2000, learning_rate=0.05, max_depth=40, min_samples_leaf=1 \n",
      "[CV]  max_features=auto, min_samples_split=15, n_estimators=1500, learning_rate=0.05, max_depth=20, min_samples_leaf=6, total= 8.2min\n",
      "[CV] max_features=sqrt, min_samples_split=2, n_estimators=1000, learning_rate=0.05, max_depth=None, min_samples_leaf=2 \n",
      "[CV]  max_features=auto, min_samples_split=15, n_estimators=1500, learning_rate=0.05, max_depth=20, min_samples_leaf=6, total= 7.9min\n",
      "[CV] max_features=sqrt, min_samples_split=2, n_estimators=1000, learning_rate=0.05, max_depth=None, min_samples_leaf=2 \n",
      "[CV]  max_features=sqrt, min_samples_split=2, n_estimators=1000, learning_rate=0.05, max_depth=None, min_samples_leaf=2, total= 4.5min\n",
      "[CV] max_features=sqrt, min_samples_split=2, n_estimators=1000, learning_rate=0.05, max_depth=None, min_samples_leaf=2 \n",
      "[CV]  max_features=sqrt, min_samples_split=2, n_estimators=1000, learning_rate=0.05, max_depth=None, min_samples_leaf=2, total= 4.5min\n",
      "[CV] max_features=sqrt, min_samples_split=10, n_estimators=3500, learning_rate=1, max_depth=100, min_samples_leaf=1 \n",
      "[CV]  max_features=sqrt, min_samples_split=2, n_estimators=1000, learning_rate=0.05, max_depth=None, min_samples_leaf=2, total= 4.4min\n",
      "[CV] max_features=sqrt, min_samples_split=10, n_estimators=3500, learning_rate=1, max_depth=100, min_samples_leaf=1 \n",
      "[CV]  max_features=auto, min_samples_split=2, n_estimators=2500, learning_rate=0.5, max_depth=None, min_samples_leaf=1, total=14.0min\n",
      "[CV] max_features=sqrt, min_samples_split=10, n_estimators=3500, learning_rate=1, max_depth=100, min_samples_leaf=1 \n",
      "[CV]  max_features=auto, min_samples_split=2, n_estimators=2500, learning_rate=0.5, max_depth=None, min_samples_leaf=1, total=16.2min\n",
      "[CV] max_features=auto, min_samples_split=15, n_estimators=3000, learning_rate=0.1, max_depth=110, min_samples_leaf=2 \n",
      "[CV]  max_features=auto, min_samples_split=5, n_estimators=2000, learning_rate=0.05, max_depth=40, min_samples_leaf=1, total=11.6min\n",
      "[CV] max_features=auto, min_samples_split=15, n_estimators=3000, learning_rate=0.1, max_depth=110, min_samples_leaf=2 \n",
      "[CV]  max_features=auto, min_samples_split=5, n_estimators=2000, learning_rate=0.05, max_depth=40, min_samples_leaf=1, total=12.6min\n",
      "[CV] max_features=auto, min_samples_split=15, n_estimators=3000, learning_rate=0.1, max_depth=110, min_samples_leaf=2 \n",
      "[CV]  max_features=sqrt, min_samples_split=10, n_estimators=3500, learning_rate=1, max_depth=100, min_samples_leaf=1, total= 5.8min\n",
      "[CV] max_features=sqrt, min_samples_split=10, n_estimators=4000, learning_rate=0.05, max_depth=70, min_samples_leaf=4 \n",
      "[CV]  max_features=auto, min_samples_split=5, n_estimators=2000, learning_rate=0.05, max_depth=40, min_samples_leaf=1, total=14.0min\n",
      "[CV] max_features=sqrt, min_samples_split=10, n_estimators=4000, learning_rate=0.05, max_depth=70, min_samples_leaf=4 \n",
      "[CV]  max_features=auto, min_samples_split=2, n_estimators=2500, learning_rate=0.5, max_depth=None, min_samples_leaf=1, total=17.9min\n",
      "[CV] max_features=sqrt, min_samples_split=10, n_estimators=4000, learning_rate=0.05, max_depth=70, min_samples_leaf=4 \n",
      "[CV]  max_features=sqrt, min_samples_split=10, n_estimators=3500, learning_rate=1, max_depth=100, min_samples_leaf=1, total= 5.5min\n",
      "[CV] max_features=sqrt, min_samples_split=10, n_estimators=3000, learning_rate=0.1, max_depth=70, min_samples_leaf=4 \n",
      "[CV]  max_features=sqrt, min_samples_split=10, n_estimators=3500, learning_rate=1, max_depth=100, min_samples_leaf=1, total= 6.4min\n",
      "[CV] max_features=sqrt, min_samples_split=10, n_estimators=3000, learning_rate=0.1, max_depth=70, min_samples_leaf=4 \n",
      "[CV]  max_features=sqrt, min_samples_split=10, n_estimators=4000, learning_rate=0.05, max_depth=70, min_samples_leaf=4, total= 7.1min\n",
      "[CV] max_features=sqrt, min_samples_split=10, n_estimators=3000, learning_rate=0.1, max_depth=70, min_samples_leaf=4 \n",
      "[CV]  max_features=sqrt, min_samples_split=10, n_estimators=3000, learning_rate=0.1, max_depth=70, min_samples_leaf=4, total= 4.7min\n",
      "[CV] max_features=auto, min_samples_split=2, n_estimators=1500, learning_rate=0.1, max_depth=30, min_samples_leaf=2 \n",
      "[CV]  max_features=sqrt, min_samples_split=10, n_estimators=4000, learning_rate=0.05, max_depth=70, min_samples_leaf=4, total= 7.0min\n",
      "[CV] max_features=auto, min_samples_split=2, n_estimators=1500, learning_rate=0.1, max_depth=30, min_samples_leaf=2 \n",
      "[CV]  max_features=sqrt, min_samples_split=10, n_estimators=4000, learning_rate=0.05, max_depth=70, min_samples_leaf=4, total= 7.5min\n",
      "[CV] max_features=auto, min_samples_split=2, n_estimators=1500, learning_rate=0.1, max_depth=30, min_samples_leaf=2 \n",
      "[CV]  max_features=sqrt, min_samples_split=10, n_estimators=3000, learning_rate=0.1, max_depth=70, min_samples_leaf=4, total= 5.0min\n"
     ]
    },
    {
     "name": "stdout",
     "output_type": "stream",
     "text": [
      "[CV] max_features=sqrt, min_samples_split=2, n_estimators=100, learning_rate=0.5, max_depth=80, min_samples_leaf=4 \n",
      "[CV]  max_features=sqrt, min_samples_split=2, n_estimators=100, learning_rate=0.5, max_depth=80, min_samples_leaf=4, total=  22.8s\n",
      "[CV] max_features=sqrt, min_samples_split=2, n_estimators=100, learning_rate=0.5, max_depth=80, min_samples_leaf=4 \n",
      "[CV]  max_features=sqrt, min_samples_split=2, n_estimators=100, learning_rate=0.5, max_depth=80, min_samples_leaf=4, total=  23.0s\n",
      "[CV] max_features=sqrt, min_samples_split=2, n_estimators=100, learning_rate=0.5, max_depth=80, min_samples_leaf=4 \n",
      "[CV]  max_features=sqrt, min_samples_split=2, n_estimators=100, learning_rate=0.5, max_depth=80, min_samples_leaf=4, total=  22.8s\n",
      "[CV] max_features=auto, min_samples_split=2, n_estimators=2500, learning_rate=0.05, max_depth=110, min_samples_leaf=6 \n",
      "[CV]  max_features=sqrt, min_samples_split=10, n_estimators=3000, learning_rate=0.1, max_depth=70, min_samples_leaf=4, total= 4.6min\n",
      "[CV] max_features=auto, min_samples_split=2, n_estimators=2500, learning_rate=0.05, max_depth=110, min_samples_leaf=6 \n",
      "[CV]  max_features=auto, min_samples_split=15, n_estimators=3000, learning_rate=0.1, max_depth=110, min_samples_leaf=2, total=14.8min\n",
      "[CV] max_features=auto, min_samples_split=2, n_estimators=2500, learning_rate=0.05, max_depth=110, min_samples_leaf=6 \n",
      "[CV]  max_features=auto, min_samples_split=15, n_estimators=3000, learning_rate=0.1, max_depth=110, min_samples_leaf=2, total=13.3min\n",
      "[CV] max_features=sqrt, min_samples_split=5, n_estimators=3500, learning_rate=0.25, max_depth=80, min_samples_leaf=2 \n",
      "[CV]  max_features=auto, min_samples_split=15, n_estimators=3000, learning_rate=0.1, max_depth=110, min_samples_leaf=2, total=16.0min\n",
      "[CV] max_features=sqrt, min_samples_split=5, n_estimators=3500, learning_rate=0.25, max_depth=80, min_samples_leaf=2 \n",
      "[CV]  max_features=auto, min_samples_split=2, n_estimators=1500, learning_rate=0.1, max_depth=30, min_samples_leaf=2, total= 7.4min\n",
      "[CV] max_features=sqrt, min_samples_split=5, n_estimators=3500, learning_rate=0.25, max_depth=80, min_samples_leaf=2 \n",
      "[CV]  max_features=auto, min_samples_split=2, n_estimators=1500, learning_rate=0.1, max_depth=30, min_samples_leaf=2, total= 7.0min\n",
      "[CV] max_features=sqrt, min_samples_split=5, n_estimators=3000, learning_rate=0.05, max_depth=60, min_samples_leaf=4 \n",
      "[CV]  max_features=auto, min_samples_split=2, n_estimators=1500, learning_rate=0.1, max_depth=30, min_samples_leaf=2, total= 8.2min\n",
      "[CV] max_features=sqrt, min_samples_split=5, n_estimators=3000, learning_rate=0.05, max_depth=60, min_samples_leaf=4 \n",
      "[CV]  max_features=sqrt, min_samples_split=5, n_estimators=3500, learning_rate=0.25, max_depth=80, min_samples_leaf=2, total= 5.8min\n",
      "[CV] max_features=sqrt, min_samples_split=5, n_estimators=3000, learning_rate=0.05, max_depth=60, min_samples_leaf=4 \n",
      "[CV]  max_features=sqrt, min_samples_split=5, n_estimators=3500, learning_rate=0.25, max_depth=80, min_samples_leaf=2, total= 5.4min\n",
      "[CV] max_features=auto, min_samples_split=2, n_estimators=2500, learning_rate=0.01, max_depth=90, min_samples_leaf=1 \n",
      "[CV]  max_features=sqrt, min_samples_split=5, n_estimators=3500, learning_rate=0.25, max_depth=80, min_samples_leaf=2, total= 6.3min\n",
      "[CV] max_features=auto, min_samples_split=2, n_estimators=2500, learning_rate=0.01, max_depth=90, min_samples_leaf=1 \n",
      "[CV]  max_features=sqrt, min_samples_split=5, n_estimators=3000, learning_rate=0.05, max_depth=60, min_samples_leaf=4, total= 6.2min\n",
      "[CV] max_features=auto, min_samples_split=2, n_estimators=2500, learning_rate=0.01, max_depth=90, min_samples_leaf=1 \n",
      "[CV]  max_features=sqrt, min_samples_split=5, n_estimators=3000, learning_rate=0.05, max_depth=60, min_samples_leaf=4, total= 6.4min\n",
      "[CV]  max_features=auto, min_samples_split=2, n_estimators=2500, learning_rate=0.05, max_depth=110, min_samples_leaf=6, total=14.7min\n",
      "[CV]  max_features=sqrt, min_samples_split=5, n_estimators=3000, learning_rate=0.05, max_depth=60, min_samples_leaf=4, total= 5.9min\n",
      "[CV]  max_features=auto, min_samples_split=2, n_estimators=2500, learning_rate=0.05, max_depth=110, min_samples_leaf=6, total=13.1min\n",
      "[CV]  max_features=auto, min_samples_split=2, n_estimators=2500, learning_rate=0.05, max_depth=110, min_samples_leaf=6, total=14.5min\n",
      "[CV]  max_features=auto, min_samples_split=2, n_estimators=2500, learning_rate=0.01, max_depth=90, min_samples_leaf=1, total=15.6min\n",
      "[CV]  max_features=auto, min_samples_split=2, n_estimators=2500, learning_rate=0.01, max_depth=90, min_samples_leaf=1, total=14.7min\n",
      "[CV]  max_features=auto, min_samples_split=2, n_estimators=2500, learning_rate=0.01, max_depth=90, min_samples_leaf=1, total=15.8min\n"
     ]
    },
    {
     "name": "stderr",
     "output_type": "stream",
     "text": [
      "[Parallel(n_jobs=-1)]: Done 300 out of 300 | elapsed: 276.3min finished\n"
     ]
    },
    {
     "data": {
      "text/plain": [
       "RandomizedSearchCV(cv=3, error_score='raise',\n",
       "          estimator=GradientBoostingClassifier(criterion='friedman_mse', init=None,\n",
       "              learning_rate=0.1, loss='deviance', max_depth=3,\n",
       "              max_features=None, max_leaf_nodes=None,\n",
       "              min_impurity_decrease=0.0, min_impurity_split=None,\n",
       "              min_samples_leaf=1, min_samples_split=2,\n",
       "              min_weight_fraction_leaf=0.0, n_estimators=100,\n",
       "              presort='auto', random_state=None, subsample=1.0, verbose=0,\n",
       "              warm_start=False),\n",
       "          fit_params=None, iid=True, n_iter=100, n_jobs=-1,\n",
       "          param_distributions={'max_features': ['auto', 'sqrt'], 'min_samples_split': [2, 5, 10, 15], 'n_estimators': [100, 1000, 1500, 2000, 2500, 3000, 3500, 4000], 'learning_rate': [1, 0.5, 0.25, 0.1, 0.05, 0.01], 'max_depth': [10, 20, 30, 40, 50, 60, 70, 80, 90, 100, 110, None], 'min_samples_leaf': [1, 2, 4, 6]},\n",
       "          pre_dispatch='2*n_jobs', random_state=42, refit=True,\n",
       "          return_train_score='warn', scoring=None, verbose=2)"
      ]
     },
     "execution_count": 72,
     "metadata": {},
     "output_type": "execute_result"
    }
   ],
   "source": [
    "gbdt_clf = GradientBoostingClassifier()\n",
    "gbdt_random = RandomizedSearchCV(estimator = gbdt_clf, \n",
    "                               param_distributions = gbdt_random_grid, \n",
    "                               n_iter = 100, \n",
    "                               cv = 3, \n",
    "                               verbose=2, \n",
    "                               random_state=42, \n",
    "                               n_jobs = -1)\n",
    "# Fit the random search model\n",
    "gbdt_random.fit(X_train, y_train)"
   ]
  },
  {
   "cell_type": "code",
   "execution_count": 73,
   "metadata": {},
   "outputs": [
    {
     "data": {
      "text/plain": [
       "{'learning_rate': 0.01,\n",
       " 'max_depth': 100,\n",
       " 'max_features': 'sqrt',\n",
       " 'min_samples_leaf': 6,\n",
       " 'min_samples_split': 15,\n",
       " 'n_estimators': 100}"
      ]
     },
     "execution_count": 73,
     "metadata": {},
     "output_type": "execute_result"
    }
   ],
   "source": [
    "gbdt_random.best_params_"
   ]
  },
  {
   "cell_type": "code",
   "execution_count": 74,
   "metadata": {},
   "outputs": [
    {
     "name": "stdout",
     "output_type": "stream",
     "text": [
      "Model Performance\n",
      "Accuracy 0.73\n"
     ]
    },
    {
     "data": {
      "text/plain": [
       "0.72999999999999998"
      ]
     },
     "execution_count": 74,
     "metadata": {},
     "output_type": "execute_result"
    }
   ],
   "source": [
    "best_gbdt = gbdt_random.best_estimator_\n",
    "evaluate(best_gbdt, X_test, y_test)"
   ]
  },
  {
   "cell_type": "code",
   "execution_count": 75,
   "metadata": {},
   "outputs": [],
   "source": [
    "gbdt_pred = best_gbdt.predict_proba(X_test)[:,1]\n",
    "fpr_gbdt, tpr_gbdt, _ = roc_curve(y_test, gbdt_pred)"
   ]
  },
  {
   "cell_type": "markdown",
   "metadata": {},
   "source": [
    "# KNN "
   ]
  },
  {
   "cell_type": "code",
   "execution_count": 28,
   "metadata": {},
   "outputs": [],
   "source": [
    "from sklearn.neighbors import KNeighborsClassifier\n"
   ]
  },
  {
   "cell_type": "code",
   "execution_count": 29,
   "metadata": {},
   "outputs": [
    {
     "data": {
      "text/plain": [
       "GridSearchCV(cv=10, error_score='raise',\n",
       "       estimator=KNeighborsClassifier(algorithm='auto', leaf_size=30, metric='minkowski',\n",
       "           metric_params=None, n_jobs=1, n_neighbors=5, p=2,\n",
       "           weights='uniform'),\n",
       "       fit_params=None, iid=False, n_jobs=-1,\n",
       "       param_grid=[{'n_neighbors': [1, 2, 3, 4, 5, 6, 7, 8, 9, 10, 11, 12, 13, 14, 15, 16, 17, 18, 19]}],\n",
       "       pre_dispatch='2*n_jobs', refit=True, return_train_score='warn',\n",
       "       scoring='accuracy', verbose=0)"
      ]
     },
     "execution_count": 29,
     "metadata": {},
     "output_type": "execute_result"
    }
   ],
   "source": [
    "from sklearn.pipeline import make_pipeline\n",
    "from sklearn.preprocessing import StandardScaler\n",
    "from sklearn.neighbors import KNeighborsClassifier\n",
    "from sklearn.model_selection import GridSearchCV\n",
    "\n",
    "pipe = make_pipeline(StandardScaler(), KNeighborsClassifier())\n",
    "\n",
    "\n",
    "param_grid=[\n",
    "    {\n",
    "        'n_neighbors':[i for i in range(1,20)]\n",
    "    }]\n",
    "\n",
    "knn_gs = GridSearchCV(KNeighborsClassifier(),\n",
    "                   param_grid=param_grid, \n",
    "                   iid=False,\n",
    "                   n_jobs=-1,\n",
    "                   refit=True,\n",
    "                   scoring='accuracy',\n",
    "                   cv=10)\n",
    "\n",
    "knn_gs.fit(X_train, y_train)"
   ]
  },
  {
   "cell_type": "code",
   "execution_count": 30,
   "metadata": {},
   "outputs": [
    {
     "name": "stdout",
     "output_type": "stream",
     "text": [
      "Best Accuracy: 71.38%\n",
      "Best Params: {'n_neighbors': 19}\n",
      "Test Accuracy: 70.95%\n"
     ]
    }
   ],
   "source": [
    "print('Best Accuracy: %.2f%%' % (knn_gs.best_score_*100))\n",
    "from sklearn.metrics import accuracy_score\n",
    "print('Best Params: %s' % knn_gs.best_params_)\n",
    "print('Test Accuracy: %.2f%%' % (accuracy_score(knn_gs.predict(X_test), y_test)*100))"
   ]
  },
  {
   "cell_type": "code",
   "execution_count": 26,
   "metadata": {},
   "outputs": [],
   "source": [
    "knn_pred = knn_gs.best_estimator_.predict_proba(X_test)[:,1]\n",
    "fpr_knn, tpr_knn, _ = roc_curve(y_test, knn_pred)"
   ]
  },
  {
   "cell_type": "markdown",
   "metadata": {},
   "source": [
    "# Decision Tree"
   ]
  },
  {
   "cell_type": "code",
   "execution_count": 13,
   "metadata": {},
   "outputs": [],
   "source": [
    "from sklearn.model_selection import RandomizedSearchCV\n",
    "# Number of features to consider at every split\n",
    "max_features = ['auto', 'sqrt']\n",
    "# Maximum number of levels in tree\n",
    "max_depth = [int(x) for x in np.linspace(1, 300, num = 10)]\n",
    "max_depth.append(None)\n",
    "# Minimum number of samples required to split a node\n",
    "min_samples_split = [2, 5, 10,15]\n",
    "# Minimum number of samples required at each leaf node\n",
    "min_samples_leaf = [1, 2, 4, 6, 8]\n",
    "# Create the random grid\n",
    "dt_random_grid = {'max_features': max_features,\n",
    "                   'max_depth': max_depth,\n",
    "                   'min_samples_split': min_samples_split,\n",
    "                   'min_samples_leaf': min_samples_leaf}"
   ]
  },
  {
   "cell_type": "code",
   "execution_count": 14,
   "metadata": {},
   "outputs": [],
   "source": [
    "from sklearn.tree import DecisionTreeClassifier\n",
    "\n",
    "dt_clf = DecisionTreeClassifier()\n",
    "dt_random = RandomizedSearchCV(estimator = dt_clf, \n",
    "                               param_distributions = dt_random_grid, \n",
    "                               n_iter = 100, \n",
    "                               cv = 3, \n",
    "                               verbose=2, \n",
    "                               random_state=42, \n",
    "                               n_jobs = -1)"
   ]
  },
  {
   "cell_type": "code",
   "execution_count": 15,
   "metadata": {},
   "outputs": [
    {
     "name": "stdout",
     "output_type": "stream",
     "text": [
      "Fitting 3 folds for each of 100 candidates, totalling 300 fits\n"
     ]
    },
    {
     "name": "stderr",
     "output_type": "stream",
     "text": [
      "[Parallel(n_jobs=-1)]: Using backend LokyBackend with 4 concurrent workers.\n",
      "[Parallel(n_jobs=-1)]: Done  35 tasks      | elapsed:    3.3s\n",
      "[Parallel(n_jobs=-1)]: Done 300 out of 300 | elapsed:    6.0s finished\n"
     ]
    },
    {
     "data": {
      "text/plain": [
       "RandomizedSearchCV(cv=3, error_score='raise-deprecating',\n",
       "          estimator=DecisionTreeClassifier(class_weight=None, criterion='gini', max_depth=None,\n",
       "            max_features=None, max_leaf_nodes=None,\n",
       "            min_impurity_decrease=0.0, min_impurity_split=None,\n",
       "            min_samples_leaf=1, min_samples_split=2,\n",
       "            min_weight_fraction_leaf=0.0, presort=False, random_state=None,\n",
       "            splitter='best'),\n",
       "          fit_params=None, iid='warn', n_iter=100, n_jobs=-1,\n",
       "          param_distributions={'max_features': ['auto', 'sqrt'], 'max_depth': [1, 34, 67, 100, 133, 167, 200, 233, 266, 300, None], 'min_samples_split': [2, 5, 10, 15], 'min_samples_leaf': [1, 2, 4, 6, 8]},\n",
       "          pre_dispatch='2*n_jobs', random_state=42, refit=True,\n",
       "          return_train_score='warn', scoring=None, verbose=2)"
      ]
     },
     "execution_count": 15,
     "metadata": {},
     "output_type": "execute_result"
    }
   ],
   "source": [
    "dt_random.fit(X_train, y_train)"
   ]
  },
  {
   "cell_type": "code",
   "execution_count": 16,
   "metadata": {},
   "outputs": [
    {
     "data": {
      "text/plain": [
       "{'min_samples_split': 15,\n",
       " 'min_samples_leaf': 8,\n",
       " 'max_features': 'auto',\n",
       " 'max_depth': 300}"
      ]
     },
     "execution_count": 16,
     "metadata": {},
     "output_type": "execute_result"
    }
   ],
   "source": [
    "dt_random.best_params_"
   ]
  },
  {
   "cell_type": "code",
   "execution_count": 19,
   "metadata": {},
   "outputs": [
    {
     "name": "stdout",
     "output_type": "stream",
     "text": [
      "Model Performance\n",
      "Accuracy 0.7231\n"
     ]
    }
   ],
   "source": [
    "base_dt_model = DecisionTreeClassifier(max_depth=3)\n",
    "base_dt_model.fit(X_train, y_train)\n",
    "base_dt_accuracy = evaluate(base_dt_model, X_test, y_test)"
   ]
  },
  {
   "cell_type": "code",
   "execution_count": 30,
   "metadata": {},
   "outputs": [
    {
     "data": {
      "text/plain": [
       "DecisionTreeClassifier(class_weight=None, criterion='gini', max_depth=1,\n",
       "            max_features='auto', max_leaf_nodes=None,\n",
       "            min_impurity_decrease=0.0, min_impurity_split=None,\n",
       "            min_samples_leaf=4, min_samples_split=5,\n",
       "            min_weight_fraction_leaf=0.0, presort=False, random_state=None,\n",
       "            splitter='best')"
      ]
     },
     "execution_count": 30,
     "metadata": {},
     "output_type": "execute_result"
    }
   ],
   "source": [
    "best_dt = DecisionTreeClassifier(max_depth=1,\n",
    "                                 max_features = 'auto',\n",
    "                                 min_samples_leaf = 4,\n",
    "                                 min_samples_split = 5)\n",
    "best_dt.fit(X_train, y_train)"
   ]
  },
  {
   "cell_type": "code",
   "execution_count": 45,
   "metadata": {},
   "outputs": [],
   "source": [
    "from sklearn.externals.six import StringIO  \n",
    "from IPython.display import Image  \n",
    "from sklearn.tree import export_graphviz\n",
    "from graphviz import Digraph"
   ]
  },
  {
   "cell_type": "code",
   "execution_count": 46,
   "metadata": {},
   "outputs": [
    {
     "data": {
      "image/png": "[encoded data removed]",
      "text/plain": [
       "<IPython.core.display.Image object>"
      ]
     },
     "execution_count": 46,
     "metadata": {},
     "output_type": "execute_result"
    }
   ],
   "source": [
    "dot_data = StringIO()\n",
    "export_graphviz(best_dt, out_file=dot_data,  \n",
    "                filled=True, rounded=True,\n",
    "                special_characters=True)\n",
    "graph = pydotplus.graph_from_dot_data(dot_data.getvalue())  \n",
    "Image(graph.create_png())"
   ]
  },
  {
   "cell_type": "code",
   "execution_count": 30,
   "metadata": {},
   "outputs": [],
   "source": [
    "dt_pred = best_dt.predict_proba(X_test)[:,1]\n",
    "fpr_dt, tpr_dt, _ = roc_curve(y_test, dt_pred)"
   ]
  },
  {
   "cell_type": "code",
   "execution_count": 38,
   "metadata": {},
   "outputs": [],
   "source": [
    "import matplotlib.pyplot as plt"
   ]
  },
  {
   "cell_type": "code",
   "execution_count": 84,
   "metadata": {},
   "outputs": [
    {
     "data": {
      "image/png": "[encoded data removed]",
      "text/plain": [
       "<Figure size 432x288 with 1 Axes>"
      ]
     },
     "metadata": {
      "needs_background": "light"
     },
     "output_type": "display_data"
    }
   ],
   "source": [
    "plt.figure(1)\n",
    "plt.plot([0, 1], [0, 1], 'k--')\n",
    "plt.plot(fpr_rf, tpr_rf, label='Random Forest')\n",
    "plt.plot(fpr_dt, tpr_dt, label='Decision Tree')\n",
    "plt.plot(fpr_knn, tpr_knn, label='KNN')\n",
    "plt.plot(fpr_gbdt, tpr_gbdt, label='GBDT')\n",
    "plt.xlabel('False positive rate')\n",
    "plt.ylabel('True positive rate')\n",
    "plt.title('ROC curve')\n",
    "plt.legend(loc='lower right')\n",
    "plt.savefig(\"roc.png\")"
   ]
  },
  {
   "cell_type": "code",
   "execution_count": 83,
   "metadata": {},
   "outputs": [],
   "source": []
  },
  {
   "cell_type": "code",
   "execution_count": 94,
   "metadata": {},
   "outputs": [],
   "source": [
    "gbr = GradientBoostingClassifier(learning_rate= 0.01,\n",
    "                                 max_depth= 100,\n",
    "                                 max_features= 'sqrt',\n",
    "                                 min_samples_leaf= 6,\n",
    "                                 min_samples_split= 15,\n",
    "                                 n_estimators= 100)"
   ]
  },
  {
   "cell_type": "code",
   "execution_count": 95,
   "metadata": {},
   "outputs": [
    {
     "name": "stdout",
     "output_type": "stream",
     "text": [
      "14.2 s ± 438 ms per loop (mean ± std. dev. of 7 runs, 1 loop each)\n"
     ]
    }
   ],
   "source": [
    "%%timeit\n",
    "gbr.fit(X_train, y_train)"
   ]
  },
  {
   "cell_type": "markdown",
   "metadata": {},
   "source": [
    "# McNemar's Test"
   ]
  },
  {
   "cell_type": "code",
   "execution_count": 96,
   "metadata": {},
   "outputs": [],
   "source": [
    "from mlxtend.evaluate import mcnemar_table\n",
    "rf_pred = best_rf.predict(X_test)\n",
    "gbr_pred = gbr.predict(X_test)"
   ]
  },
  {
   "cell_type": "code",
   "execution_count": 99,
   "metadata": {},
   "outputs": [
    {
     "name": "stdout",
     "output_type": "stream",
     "text": [
      "[[33775  1140]\n",
      " [ 1227 11776]]\n"
     ]
    }
   ],
   "source": [
    "tb = mcnemar_table(y_target=y_test, \n",
    "                   y_model1=rf_pred, \n",
    "                   y_model2=gbr_pred)\n",
    "print(tb)"
   ]
  },
  {
   "cell_type": "code",
   "execution_count": 100,
   "metadata": {},
   "outputs": [
    {
     "name": "stdout",
     "output_type": "stream",
     "text": [
      "chi-squared: 3.12463033376\n",
      "p-value: 0.0771173606519\n"
     ]
    }
   ],
   "source": [
    "from mlxtend.evaluate import mcnemar\n",
    "\n",
    "chi2, p = mcnemar(ary=tb, corrected=True)\n",
    "print('chi-squared:', chi2)\n",
    "print('p-value:', p)"
   ]
  },
  {
   "cell_type": "code",
   "execution_count": 101,
   "metadata": {},
   "outputs": [
    {
     "name": "stdout",
     "output_type": "stream",
     "text": [
      "Model Performance\n",
      "Accuracy 0.73\n"
     ]
    },
    {
     "data": {
      "text/plain": [
       "0.72999999999999998"
      ]
     },
     "execution_count": 101,
     "metadata": {},
     "output_type": "execute_result"
    }
   ],
   "source": [
    "evaluate(gbr, X_test, y_test)"
   ]
  },
  {
   "cell_type": "code",
   "execution_count": 102,
   "metadata": {},
   "outputs": [
    {
     "name": "stdout",
     "output_type": "stream",
     "text": [
      "Model Performance\n",
      "Accuracy 0.71\n"
     ]
    },
    {
     "data": {
      "text/plain": [
       "0.70999999999999996"
      ]
     },
     "execution_count": 102,
     "metadata": {},
     "output_type": "execute_result"
    }
   ],
   "source": [
    "evaluate(knn_gs.best_estimator_, X_test, y_test) "
   ]
  },
  {
   "cell_type": "code",
   "execution_count": 103,
   "metadata": {},
   "outputs": [
    {
     "name": "stdout",
     "output_type": "stream",
     "text": [
      "Model Performance\n",
      "Accuracy 0.71\n"
     ]
    },
    {
     "data": {
      "text/plain": [
       "0.70999999999999996"
      ]
     },
     "execution_count": 103,
     "metadata": {},
     "output_type": "execute_result"
    }
   ],
   "source": [
    "evaluate(dt_random.best_estimator_, X_test, y_test)"
   ]
  },
  {
   "cell_type": "code",
   "execution_count": 104,
   "metadata": {},
   "outputs": [
    {
     "name": "stdout",
     "output_type": "stream",
     "text": [
      "Model Performance\n",
      "Accuracy 0.73\n"
     ]
    },
    {
     "data": {
      "text/plain": [
       "0.72999999999999998"
      ]
     },
     "execution_count": 104,
     "metadata": {},
     "output_type": "execute_result"
    }
   ],
   "source": [
    "evaluate(best_rf, X_test, y_test)"
   ]
  },
  {
   "cell_type": "code",
   "execution_count": 105,
   "metadata": {},
   "outputs": [
    {
     "name": "stdout",
     "output_type": "stream",
     "text": [
      "32.2 ms ± 467 µs per loop (mean ± std. dev. of 7 runs, 10 loops each)\n"
     ]
    }
   ],
   "source": [
    "%timeit KNeighborsClassifier(n_neighbors=18).fit(X_train, y_train)"
   ]
  },
  {
   "cell_type": "code",
   "execution_count": null,
   "metadata": {},
   "outputs": [],
   "source": []
  }
 ],
 "metadata": {
  "kernelspec": {
   "display_name": "Python 3",
   "language": "python",
   "name": "python3"
  },
  "language_info": {
   "codemirror_mode": {
    "name": "ipython",
    "version": 3
   },
   "file_extension": ".py",
   "mimetype": "text/x-python",
   "name": "python",
   "nbconvert_exporter": "python",
   "pygments_lexer": "ipython3",
   "version": "3.7.4"
  }
 },
 "nbformat": 4,
 "nbformat_minor": 2
}
